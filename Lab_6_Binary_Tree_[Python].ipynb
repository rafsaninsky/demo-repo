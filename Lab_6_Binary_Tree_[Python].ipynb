{
  "cells": [
    {
      "cell_type": "markdown",
      "metadata": {
        "id": "view-in-github",
        "colab_type": "text"
      },
      "source": [
        "<a href=\"https://colab.research.google.com/github/rafsaninsky/demo-repo/blob/main/Lab_6_Binary_Tree_%5BPython%5D.ipynb\" target=\"_parent\"><img src=\"https://colab.research.google.com/assets/colab-badge.svg\" alt=\"Open In Colab\"/></a>"
      ]
    },
    {
      "cell_type": "code",
      "execution_count": 2,
      "metadata": {
        "id": "D6vC520OPeTa"
      },
      "outputs": [],
      "source": [
        "class BTNode:\n",
        "  def __init__(self, elem):\n",
        "    self.elem = elem\n",
        "    self.right = None\n",
        "    self.left = None"
      ]
    },
    {
      "cell_type": "code",
      "execution_count": 3,
      "metadata": {
        "id": "UDTKlm4-PfNM"
      },
      "outputs": [],
      "source": [
        "def inorder(root):\n",
        "  if root == None:\n",
        "    return\n",
        "\n",
        "  inorder(root.left)\n",
        "  print(root.elem, end = ' ')\n",
        "  inorder(root.right)"
      ]
    },
    {
      "cell_type": "code",
      "execution_count": 4,
      "metadata": {
        "id": "Rtc22SPzPgzM",
        "colab": {
          "base_uri": "https://localhost:8080/"
        },
        "outputId": "d6cdbefe-5b69-4c6e-aa97-15f8fc4a5e1e"
      },
      "outputs": [
        {
          "output_type": "stream",
          "name": "stdout",
          "text": [
            "H D B E A I F J C G k "
          ]
        }
      ],
      "source": [
        "def tree_construction(arr, i = 1):\n",
        "  if i>=len(arr) or arr[i] == None:\n",
        "    return None\n",
        "  p = BTNode(arr[i])\n",
        "  p.left = tree_construction(arr, 2*i)\n",
        "  p.right = tree_construction(arr, 2*i+1)\n",
        "  return p\n",
        "\n",
        "\n",
        "root2 = tree_construction([None, 'A', 'B', 'C', 'D', 'E', 'F', 'G', 'H', None, None, None, 'I', 'J', None, 'k'])\n",
        "inorder(root2)"
      ]
    },
    {
      "cell_type": "markdown",
      "metadata": {
        "id": "0lqRviV2fZAr"
      },
      "source": [
        "**Task 1** `[LAB TASK: No Need To Submit]`"
      ]
    },
    {
      "cell_type": "code",
      "execution_count": 5,
      "metadata": {
        "id": "zbBHU3FoPieb",
        "colab": {
          "base_uri": "https://localhost:8080/"
        },
        "outputId": "5d1d9e1b-ff0f-4fec-c93b-41e79754192a"
      },
      "outputs": [
        {
          "output_type": "stream",
          "name": "stdout",
          "text": [
            "Given Tree Inorder Traversal:  40 20 60 10 30 \n",
            "Mirrored Tree Inorder Traversal:  30 10 60 20 40 "
          ]
        }
      ],
      "source": [
        "def convert_mirror(root):\n",
        "  #To Do\n",
        "\n",
        "  if root==None:\n",
        "    return\n",
        "\n",
        "\n",
        "  left=convert_mirror(root.left)\n",
        "  right=convert_mirror(root.right)\n",
        "\n",
        "  root.left=right\n",
        "  root.right=left\n",
        "\n",
        "  return root\n",
        "\n",
        "\n",
        "\n",
        "\n",
        "\n",
        "#DRIVER CODE\n",
        "root = BTNode(10)\n",
        "n1 = BTNode(20)\n",
        "n2 = BTNode(30)\n",
        "n3 = BTNode(40)\n",
        "n4 = BTNode(60)\n",
        "\n",
        "root.left = n1\n",
        "root.right = n2\n",
        "\n",
        "n1.left = n3\n",
        "n1.right = n4\n",
        "\n",
        "print('Given Tree Inorder Traversal: ', end = ' ')\n",
        "inorder(root) #Given Tree Inorder Traversal:  40 20 60 10 30\n",
        "print()\n",
        "\n",
        "root2 = convert_mirror(root)\n",
        "print('Mirrored Tree Inorder Traversal: ', end = ' ')\n",
        "inorder(root2) #Mirrored Tree Inorder Traversal:  30 10 60 20 40"
      ]
    },
    {
      "cell_type": "markdown",
      "metadata": {
        "id": "mRdJZKyQfgZg"
      },
      "source": [
        "**Task 2** `[LAB TASK: No Need To Submit]`"
      ]
    },
    {
      "cell_type": "code",
      "execution_count": null,
      "metadata": {
        "id": "lsuxinlBPmji",
        "colab": {
          "base_uri": "https://localhost:8080/"
        },
        "outputId": "f06e0b08-1375-4896-83be-63aedaff71f5"
      },
      "outputs": [
        {
          "output_type": "stream",
          "name": "stdout",
          "text": [
            "Given Tree Inorder Traversal:  3 9 -5 4 2 7 \n",
            "Level Wise Smallest Value:  {0: 4, 1: 2, 2: -5}\n"
          ]
        }
      ],
      "source": [
        "def smallest_level(root,res={}, c=0):\n",
        "  #To Do\n",
        "\n",
        "\n",
        "\n",
        "   if root==None:\n",
        "    return\n",
        "   if c not in res or res[c]>root.elem :\n",
        "    res[c]=root.elem\n",
        "\n",
        "   smallest_level(root.left,res,c+1)\n",
        "   smallest_level(root.right,res,c+1)\n",
        "\n",
        "   return res\n",
        "\n",
        "\n",
        "\n",
        "\n",
        "\n",
        "\n",
        "\n",
        "\n",
        "#DRIVER CODE\n",
        "root = tree_construction([None, 4,9,2,3,-5,None,7])\n",
        "print('Given Tree Inorder Traversal: ', end = ' ')\n",
        "inorder(root) #Given Tree Inorder Traversal:  3 9 5 4 2 7\n",
        "print()\n",
        "print('Level Wise Smallest Value: ', end = ' ')\n",
        "print(smallest_level(root)) #Level Wise Smallest Value:  {0: 4, 1: 2, 2: -5}"
      ]
    },
    {
      "cell_type": "markdown",
      "metadata": {
        "id": "LD6wA06dfgZi"
      },
      "source": [
        "**Task 3** `[LAB TASK: No Need To Submit]`"
      ]
    },
    {
      "cell_type": "code",
      "execution_count": null,
      "metadata": {
        "id": "m4E9_E8PThk6"
      },
      "outputs": [],
      "source": [
        "#def preOrder(root):\n",
        "\n",
        "\n",
        "\n",
        "def sumTr(root,level=1):\n",
        "   if root==None:\n",
        "      return 0\n",
        "   return (root.elem % level)+sumTr(root.left,level+1)+sumTr(root.right,level+1)\n",
        "\n",
        "\n",
        "def sumTree(root):\n",
        "  if root==None:\n",
        "    return 0\n",
        "  return (root.elem) + sumTr(root.left,1) +sumTr(root.right,1)\n",
        "\n",
        "\n",
        "\n",
        "\n",
        "\n",
        "  # To DO\n",
        "  #you can declare as many helper function with extra parameters as you need .\n",
        "  #You can not modify the parameters of sumTree or modify any part of the given code."
      ]
    },
    {
      "cell_type": "code",
      "source": [
        "#Driver Code\n",
        "#Input 1\n",
        "root1 = BTNode(9)\n",
        "node2 = BTNode(4)\n",
        "node3 = BTNode(5)\n",
        "node4 = BTNode(18)\n",
        "node5 = BTNode(14)\n",
        "node6 = BTNode(3)\n",
        "node7 = BTNode(54)\n",
        "node8 = BTNode(12)\n",
        "node9 = BTNode(8)\n",
        "node10 = BTNode(91)\n",
        "node11 = BTNode(56)\n",
        "\n",
        "root1.left = node2\n",
        "root1.right = node3\n",
        "\n",
        "node2.left = node4\n",
        "\n",
        "node3.left = node5\n",
        "node3.right = node6\n",
        "\n",
        "node4.left = node7\n",
        "node4.right = node8\n",
        "\n",
        "node5.left = node9\n",
        "\n",
        "node8.left = node10\n",
        "node8.right = node11\n",
        "\n",
        "print(sumTree(root1)) #This should print 15"
      ],
      "metadata": {
        "id": "wV3ezsf_Kwli",
        "colab": {
          "base_uri": "https://localhost:8080/"
        },
        "outputId": "b66080c2-5a55-4629-88b8-d5f5aba10695"
      },
      "execution_count": null,
      "outputs": [
        {
          "output_type": "stream",
          "name": "stdout",
          "text": [
            "15\n"
          ]
        }
      ]
    },
    {
      "cell_type": "markdown",
      "source": [
        "**Task 4** `[ASSIGNMENT TASK: MUST Submit]`"
      ],
      "metadata": {
        "id": "V_eVdAAufgZi"
      }
    },
    {
      "cell_type": "code",
      "source": [
        "def swap_child(root, level, M):\n",
        "  #To Do\n",
        "  if root == None:\n",
        "    return None\n",
        "  if level==M :\n",
        "    return  root\n",
        "  left=swap_child(root.left,level+1,M)\n",
        "  right=swap_child(root.right,level+1,M)\n",
        "  root.left=right\n",
        "  root.right=left\n",
        "  return root\n",
        "#Driver Code\n",
        "root=BTNode('A')\n",
        "#Write other nodes by yourself from the given tree of Doc File\n",
        "node2 = BTNode('B')\n",
        "node3 = BTNode('C')\n",
        "node4 = BTNode('D')\n",
        "node5 = BTNode('E')\n",
        "node6 = BTNode('F')\n",
        "node7= BTNode('G')\n",
        "node8 = BTNode('H')\n",
        "node9 = BTNode('I')\n",
        "node10 = BTNode('J')\n",
        "\n",
        "root.left=node2\n",
        "root.right=node3\n",
        "\n",
        "node2.left=node4\n",
        "node2.right=node5\n",
        "\n",
        "node4.left=node7\n",
        "node4.right=node8\n",
        "\n",
        "node5.left=node9\n",
        "\n",
        "node3.right=node6\n",
        "node6.left=node10\n",
        "\n",
        "\n",
        "\n",
        "print('Given Tree Inorder Traversal: ', end = ' ')\n",
        "inorder(root)   #Given Tree Inorder Traversal: G D H B I E A C J F\n",
        "print()\n",
        "\n",
        "root2 = swap_child(root, 0, 2)\n",
        "print('Swapped Tree Inorder Traversal: ', end = ' ')\n",
        "inorder(root2)  #Swapped Tree Inorder Traversal: J F C A I E B G D H"
      ],
      "metadata": {
        "id": "0Rb_m6FRKktN",
        "colab": {
          "base_uri": "https://localhost:8080/"
        },
        "outputId": "b94117dd-1290-40a3-d59f-b4dcdc35a38e"
      },
      "execution_count": 7,
      "outputs": [
        {
          "output_type": "stream",
          "name": "stdout",
          "text": [
            "Given Tree Inorder Traversal:  G D H B I E A C J F \n",
            "Swapped Tree Inorder Traversal:  J F C A I E B G D H "
          ]
        }
      ]
    },
    {
      "cell_type": "markdown",
      "source": [
        "**Task 5** `[ASSIGNMENT TASK: MUST Submit]`"
      ],
      "metadata": {
        "id": "9W378Cu-fgZj"
      }
    },
    {
      "cell_type": "code",
      "source": [
        "def subtract_summation(root):\n",
        "  #To Do\n",
        "\n",
        "  if root==None:\n",
        "    return 0\n",
        "  return helper(root.left) - helper(root. right)\n",
        "\n",
        "def helper(root):\n",
        "  if root == None:\n",
        "    return 0\n",
        "  return root.elem + helper(root.left) + helper(root.right)\n",
        "\n",
        "\n",
        "\n",
        "\n",
        "#Driver Code\n",
        "root=BTNode(71)\n",
        "#Write other nodes by yourself from the given tree of Doc File\n",
        "node2  = BTNode(27)\n",
        "node3  = BTNode(62)\n",
        "node4  = BTNode(80)\n",
        "node5  = BTNode(75)\n",
        "node6  = BTNode(41)\n",
        "node7  = BTNode(3)\n",
        "node8  = BTNode(87)\n",
        "node9  = BTNode(56)\n",
        "node10 = BTNode(19)\n",
        "node11 = BTNode(89)\n",
        "\n",
        "root.left  = node2\n",
        "root.right = node3\n",
        "\n",
        "node2.left  = node4     # 27 -> 80\n",
        "node2.right = node5     # 27 -> 75\n",
        "\n",
        "node4.left  = node8     # 80 -> 87\n",
        "node4.right = node9     # 80 -> 56\n",
        "\n",
        "node3.left  = node6     # 62 -> 41\n",
        "node3.right = node7     # 62 -> 3\n",
        "\n",
        "node7.left  = node10    # 3 -> 19\n",
        "node7.right = node11    # 3 -> 89\n",
        "\n",
        "\n",
        "print(subtract_summation(root)) #This should print 111"
      ],
      "metadata": {
        "id": "dMXJ2qxkNn_F",
        "colab": {
          "base_uri": "https://localhost:8080/"
        },
        "outputId": "efabf0b1-8430-49b9-f17e-49bb871f29b3"
      },
      "execution_count": 11,
      "outputs": [
        {
          "output_type": "stream",
          "name": "stdout",
          "text": [
            "111\n"
          ]
        }
      ]
    },
    {
      "cell_type": "markdown",
      "metadata": {
        "id": "tQgzgNwRfgZj"
      },
      "source": [
        "**Task 6** `[ASSIGNMENT TASK: MUST Submit]`"
      ]
    },
    {
      "cell_type": "code",
      "source": [
        "def level_sum(root,level=0):\n",
        "  #To Do\n",
        "  if root==None:\n",
        "    return 0\n",
        "  if level % 2 == 0:\n",
        "    return -root.elem + level_sum(root.left,level+1) + level_sum(root.right,level+1)\n",
        "  if level%2 != 0 :\n",
        "    return root.elem + level_sum(root.left,level+1) + level_sum(root.right,level+1)\n",
        "\n",
        "\n",
        "#DRIVER CODE\n",
        "root = BTNode(1)\n",
        "n2 = BTNode(2)\n",
        "n3 = BTNode(3)\n",
        "n4 = BTNode(4)\n",
        "n5 = BTNode(5)\n",
        "n6 = BTNode(6)\n",
        "n7 = BTNode(7)\n",
        "n8 = BTNode(8)\n",
        "root.left = n2\n",
        "root.right = n3\n",
        "\n",
        "n2.left = n4\n",
        "n3.left = n5\n",
        "n3.right = n6\n",
        "\n",
        "n5.left = n7\n",
        "n5.right = n8\n",
        "\n",
        "\n",
        "print(level_sum(root)) #This should print 4"
      ],
      "metadata": {
        "id": "U_LYhaRIxZCb",
        "colab": {
          "base_uri": "https://localhost:8080/"
        },
        "outputId": "f4231196-f8df-472c-d1d7-fa1d6f5f2f07"
      },
      "execution_count": 15,
      "outputs": [
        {
          "output_type": "stream",
          "name": "stdout",
          "text": [
            "4\n"
          ]
        }
      ]
    }
  ],
  "metadata": {
    "colab": {
      "provenance": [],
      "include_colab_link": true
    },
    "kernelspec": {
      "display_name": "Python 3",
      "name": "python3"
    },
    "language_info": {
      "name": "python"
    }
  },
  "nbformat": 4,
  "nbformat_minor": 0
}