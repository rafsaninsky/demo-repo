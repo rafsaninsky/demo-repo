{
  "cells": [
    {
      "cell_type": "markdown",
      "metadata": {
        "id": "view-in-github",
        "colab_type": "text"
      },
      "source": [
        "<a href=\"https://colab.research.google.com/github/rafsaninsky/demo-repo/blob/main/CSE220_Lab_1Full.ipynb\" target=\"_parent\"><img src=\"https://colab.research.google.com/assets/colab-badge.svg\" alt=\"Open In Colab\"/></a>"
      ]
    },
    {
      "cell_type": "code",
      "execution_count": 1,
      "metadata": {
        "id": "rSkZFFD4ej5o",
        "colab": {
          "base_uri": "https://localhost:8080/"
        },
        "outputId": "e4d6546e-e2d3-4c78-f60c-218d60c57041"
      },
      "outputs": [
        {
          "output_type": "stream",
          "name": "stdout",
          "text": [
            "Collecting fhm-unittest\n",
            "  Downloading fhm_unittest-1.0.1-py3-none-any.whl.metadata (1.9 kB)\n",
            "Downloading fhm_unittest-1.0.1-py3-none-any.whl (2.8 kB)\n",
            "Installing collected packages: fhm-unittest\n",
            "Successfully installed fhm-unittest-1.0.1\n",
            "Collecting fuzzywuzzy\n",
            "  Downloading fuzzywuzzy-0.18.0-py2.py3-none-any.whl.metadata (4.9 kB)\n",
            "Downloading fuzzywuzzy-0.18.0-py2.py3-none-any.whl (18 kB)\n",
            "Installing collected packages: fuzzywuzzy\n",
            "Successfully installed fuzzywuzzy-0.18.0\n"
          ]
        },
        {
          "output_type": "stream",
          "name": "stderr",
          "text": [
            "/usr/local/lib/python3.11/dist-packages/fuzzywuzzy/fuzz.py:11: UserWarning: Using slow pure-python SequenceMatcher. Install python-Levenshtein to remove this warning\n",
            "  warnings.warn('Using slow pure-python SequenceMatcher. Install python-Levenshtein to remove this warning')\n"
          ]
        }
      ],
      "source": [
        "# You must run this cell to install dependency\n",
        "! pip3 install fhm-unittest\n",
        "! pip3 install fuzzywuzzy\n",
        "import fhm_unittest as unittest\n",
        "import numpy as np"
      ]
    },
    {
      "cell_type": "code",
      "execution_count": 2,
      "metadata": {
        "id": "fknrEodfUb5M"
      },
      "outputs": [],
      "source": [
        "#DO NOT CHANGE THE CODE BELOW\n",
        "#You must run this cell to print matrix and for the driver code to work\n",
        "def print_matrix(m):\n",
        "  if type(m)==np.ndarray:\n",
        "    row,col = m.shape\n",
        "    for i in range(row):\n",
        "        c = 1\n",
        "        print('|', end='')\n",
        "        for j in range(col):\n",
        "            c += 1\n",
        "            if(len(str(m[i][j])) == 1):\n",
        "                print(' ',m[i][j], end = '  |')\n",
        "                c += 6\n",
        "            else:\n",
        "                print(' ',m[i][j], end = ' |')\n",
        "                c += 6\n",
        "        print()\n",
        "        print('-'*(c-col))\n",
        "\n"
      ]
    },
    {
      "cell_type": "markdown",
      "metadata": {
        "id": "YLpnDfK4egmI"
      },
      "source": [
        "**Instructions to Follow (Failing to follow these will result mark deductions).**\n",
        "1. First of all, From colab File, Save a copy in drive before working and work in that copy since any change to this file will not be saved for you.\n",
        "2. You can not use any built-in function except len()\n",
        "\n",
        "3. You can not use any other python collections except array (e.g: tuple, dictionaries etc.).\n",
        "\n",
        "4. We will initialize a new array using numpy library. We have to mention the fixed size during initialization. There might be 4 approaches.\n",
        "\n",
        " i. arr = np.array([None] * 10) #Initializing an array length 10 with values None.\n",
        "\n",
        " ii. arr = np.array([0] * 10) #Initializing an array length 10 with values zero.\n",
        "\n",
        " iii. arr = np.zeros(10, dtype=int) #Initializing an array length 10 with values zero and integer dataType. By default, dtype is float.\n",
        "\n",
        " iv. arr = np.array([10, 20, 30, 40]) #Initializing an array length 4 with the values.\n",
        "\n"
      ]
    },
    {
      "cell_type": "markdown",
      "metadata": {
        "id": "z-BkkdfjgR6P"
      },
      "source": [
        "You will see the status Accepted after completion if your code is correct.\n",
        "\n",
        "Do not change the driver code statements. You can only change the input values to test your code."
      ]
    },
    {
      "cell_type": "markdown",
      "source": [
        "# Lab Tasks"
      ],
      "metadata": {
        "id": "o3heEdZQ1Jnz"
      }
    },
    {
      "cell_type": "markdown",
      "source": [
        "### **Lab Task 1:** Merge Sorted Array (don't submit)"
      ],
      "metadata": {
        "id": "goiSCUelz3kj"
      }
    },
    {
      "cell_type": "code",
      "source": [
        "def mergeSortedArray(arr1, arr2):\n",
        "  #To Do\n",
        "  merged_size=len(arr1)+len(arr2)\n",
        "  merged=np.zeros(merged_size,dtype=int)\n",
        "  i=j=k=0\n",
        "  while i < len(arr1) and j < len(arr2):\n",
        "    if arr1[i] < arr2[j]:\n",
        "      merged[k]=arr1[i]\n",
        "      i+=1\n",
        "    else:\n",
        "      merged[k]=arr2[j]\n",
        "      j+=1\n",
        "    k+=1\n",
        "\n",
        "  while i < len(arr1):\n",
        "    merged[k]=arr1[i]\n",
        "    i+=1\n",
        "    k+=1\n",
        "\n",
        "  while j < len(arr2):\n",
        "    merged[k]=arr2[j]\n",
        "    j+=1\n",
        "    k+=1\n",
        "  return merged\n",
        "\n",
        "\n",
        "#DO NOT CHANGE THE CODE BELOW\n",
        "a1 = np.array([1, 2, 3])\n",
        "print(f'Sorted Array 1: {a1}')\n",
        "a2 = np.array([2, 5, 6])\n",
        "print(f'Sorted Array 2: {a2}')\n",
        "returned_value = mergeSortedArray(a1, a2)\n",
        "print(f'Merged Sorted Array: {returned_value}\\n') # This should print [1, 2, 2, 3, 5, 6]\n",
        "unittest.output_test(returned_value, np.array([1, 2, 2, 3, 5, 6]))\n",
        "\n",
        "print('\\n==================================\\n')\n",
        "\n",
        "a3 = np.array([1, 3, 5, 11])\n",
        "print(f'Sorted Array 3: {a3}')\n",
        "a4 = np.array([2, 7, 8])\n",
        "print(f'Sorted Array 4: {a4}')\n",
        "returned_value = mergeSortedArray(a3, a4)\n",
        "print(f'Merged Sorted Array: {returned_value}\\n') # This should print [1, 2, 3, 5, 7, 8, 11]\n",
        "unittest.output_test(returned_value, np.array([1, 2, 3, 5, 7, 8, 11]))"
      ],
      "metadata": {
        "id": "ohvCyw0Rz3Vd",
        "colab": {
          "base_uri": "https://localhost:8080/"
        },
        "outputId": "34eda5e5-48c1-458f-ad7d-079cc550afa2"
      },
      "execution_count": 5,
      "outputs": [
        {
          "output_type": "stream",
          "name": "stdout",
          "text": [
            "Sorted Array 1: [1 2 3]\n",
            "Sorted Array 2: [2 5 6]\n",
            "Merged Sorted Array: [1 2 2 3 5 6]\n",
            "\n",
            "Accepted\n",
            "\n",
            "==================================\n",
            "\n",
            "Sorted Array 3: [ 1  3  5 11]\n",
            "Sorted Array 4: [2 7 8]\n",
            "Merged Sorted Array: [ 1  2  3  5  7  8 11]\n",
            "\n",
            "Accepted\n"
          ]
        }
      ]
    },
    {
      "cell_type": "markdown",
      "source": [
        "### **Lab Task 2:** Zigzag Walk (don't submit)"
      ],
      "metadata": {
        "id": "fa0mftQ52KCs"
      }
    },
    {
      "cell_type": "markdown",
      "source": [
        "The color pattern is determined by adding row and column indices:\n",
        "\n",
        "Black tile if (row + col) is even.\n",
        "\n",
        "White tile if (row + col) is odd."
      ],
      "metadata": {
        "id": "cchZ5KMsNIFx"
      }
    },
    {
      "cell_type": "code",
      "source": [
        "def walk_zigzag(floor):\n",
        "  #TO DO\n",
        "  rows,cols=floor.shape\n",
        "\n",
        "  for col in range(cols):\n",
        "    emp_col=[]\n",
        "    if col%2==0:\n",
        "    # Even column: top to bottom\n",
        "      for row in range(rows):\n",
        "        if (row+col) %2 ==0:\n",
        "          emp_col+=floor[row][col]\n",
        "    else:\n",
        "           # Odd column: bottom to top\n",
        "      for row in range(rows-1,-1,-1):\n",
        "            if (row+col) %2==0:\n",
        "              emp_col+= floor[row][col]\n",
        "\n",
        "    if emp_col:\n",
        "      print(*emp_col)\n",
        "\n",
        "\n",
        "  #pass#remove this line once you're done with the function\n",
        "\n",
        "#DO NOT CHANGE THE CODE BELOW\n",
        "floor = np.array([[ '3' , '8' , '4' , '6' , '1'],\n",
        "                  ['7' , '2' , '1' , '9' , '3'],\n",
        "                  ['9' , '0' , '7' , '5' , '8'],\n",
        "                  ['2' , '1' , '3' , '4' , '0'],\n",
        "                  ['1' , '4' , '2' , '8' , '6']]\n",
        "                )\n",
        "\n",
        "print_matrix(floor)\n",
        "print('Walking Sequence:')\n",
        "walk_zigzag(floor)\n",
        "#This should print\n",
        "# 3 9 1\n",
        "# 1 2\n",
        "# 4 7 2\n",
        "# 4 9\n",
        "# 1 8 6\n",
        "print('\\n################################\\n')\n",
        "floor = np.array([[ '3' , '8' , '4' , '6' , '1'],\n",
        "                  ['7' , '2' , '1' , '9' , '3'],\n",
        "                  ['9' , '0' , '7' , '5' , '8'],\n",
        "                  ['2' , '1' , '3' , '4' , '0']]\n",
        "                )\n",
        "\n",
        "print_matrix(floor)\n",
        "print('Walking Sequence:')\n",
        "walk_zigzag(floor)\n",
        "#This should print\n",
        "# 3 9\n",
        "# 1 2\n",
        "# 4 7\n",
        "# 4 9\n",
        "# 1 8"
      ],
      "metadata": {
        "colab": {
          "base_uri": "https://localhost:8080/"
        },
        "id": "_ioQaiOh4LvL",
        "outputId": "35441d6e-7ae8-4bbe-8588-5ea3b56df9e6"
      },
      "execution_count": 7,
      "outputs": [
        {
          "output_type": "stream",
          "name": "stdout",
          "text": [
            "|  3  |  8  |  4  |  6  |  1  |\n",
            "-------------------------------\n",
            "|  7  |  2  |  1  |  9  |  3  |\n",
            "-------------------------------\n",
            "|  9  |  0  |  7  |  5  |  8  |\n",
            "-------------------------------\n",
            "|  2  |  1  |  3  |  4  |  0  |\n",
            "-------------------------------\n",
            "|  1  |  4  |  2  |  8  |  6  |\n",
            "-------------------------------\n",
            "Walking Sequence:\n",
            "3 9 1\n",
            "1 2\n",
            "4 7 2\n",
            "4 9\n",
            "1 8 6\n",
            "\n",
            "################################\n",
            "\n",
            "|  3  |  8  |  4  |  6  |  1  |\n",
            "-------------------------------\n",
            "|  7  |  2  |  1  |  9  |  3  |\n",
            "-------------------------------\n",
            "|  9  |  0  |  7  |  5  |  8  |\n",
            "-------------------------------\n",
            "|  2  |  1  |  3  |  4  |  0  |\n",
            "-------------------------------\n",
            "Walking Sequence:\n",
            "3 9\n",
            "1 2\n",
            "4 7\n",
            "4 9\n",
            "1 8\n"
          ]
        }
      ]
    },
    {
      "cell_type": "markdown",
      "source": [
        "### **Lab Task 3:** Decryption Process (don't submit)"
      ],
      "metadata": {
        "id": "vF_1d1dr2Pmg"
      }
    },
    {
      "cell_type": "code",
      "execution_count": null,
      "metadata": {
        "id": "mxufE5rfVEJM",
        "colab": {
          "base_uri": "https://localhost:8080/"
        },
        "outputId": "f8f3b522-a4d5-4972-b03a-2f82374986e6"
      },
      "outputs": [
        {
          "output_type": "stream",
          "name": "stdout",
          "text": [
            "None\n"
          ]
        }
      ],
      "source": [
        "def decrypt_matrix(matrix):\n",
        "  #To Do\n",
        "  pass#remove this line after you're done with the function\n",
        "\n",
        "#DO NOT CHANGE THE CODE BELOW\n",
        "matrix=np.array([[1,3,1],\n",
        "                 [6,4,2],\n",
        "                 [5,1,7],\n",
        "                 [9,3,3],\n",
        "                 [8,5,4]\n",
        "                 ])\n",
        "\n",
        "returned_array=decrypt_matrix(matrix)\n",
        "print(returned_array)\n",
        "#This should print [-13, 1]"
      ]
    },
    {
      "cell_type": "markdown",
      "source": [
        "# Assignment Tasks"
      ],
      "metadata": {
        "id": "3UtxT3tE1MHn"
      }
    },
    {
      "cell_type": "markdown",
      "source": [
        "### **Assignment Task 1:** Container with Most Water (submit only the function)"
      ],
      "metadata": {
        "id": "SyCEQQfY2rnN"
      }
    },
    {
      "cell_type": "code",
      "source": [
        "def mostWater(arr):\n",
        "  max=0\n",
        "  for i in range(len(arr)):\n",
        "    for j in range(len(arr)):\n",
        "      b=i-j\n",
        "      if b<0:\n",
        "        b=b*(-1)\n",
        "      if arr[i]<arr[j]:\n",
        "        area=arr[i]*b\n",
        "      elif arr[j]<arr[i]:\n",
        "        area=arr[j]*b\n",
        "      elif arr[i]==arr[j]:\n",
        "        area=0\n",
        "      if area > max:\n",
        "        max= area\n",
        "  print(max)\n",
        "  #No need to return anything just print the output inside the function\n",
        "\n",
        "  pass#remove this line when you're done with the function\n",
        "\n",
        "#DO NOT CHANGE THE CODE BELOW\n",
        "height = np.array([1,8,6,2,5,4,8,3,7])\n",
        "print(f'Given Array: {height}')\n",
        "\n",
        "print(f'\\nExpected Output: 49')\n",
        "print(f'Your Output: ',end='')\n",
        "mostWater(height)"
      ],
      "metadata": {
        "colab": {
          "base_uri": "https://localhost:8080/"
        },
        "id": "8IhzQF4H3TSu",
        "outputId": "35aaa269-0ee5-4f15-8e6d-3498b2d8e94d"
      },
      "execution_count": 8,
      "outputs": [
        {
          "output_type": "stream",
          "name": "stdout",
          "text": [
            "Given Array: [1 8 6 2 5 4 8 3 7]\n",
            "\n",
            "Expected Output: 49\n",
            "Your Output: 49\n"
          ]
        }
      ]
    },
    {
      "cell_type": "markdown",
      "source": [
        "### **Assignment Task 2:** Row Rotation Policy (submit only the function)"
      ],
      "metadata": {
        "id": "VWN3yZrq2qp_"
      }
    },
    {
      "cell_type": "code",
      "execution_count": 9,
      "metadata": {
        "id": "SzBe-ByVmV8G",
        "colab": {
          "base_uri": "https://localhost:8080/"
        },
        "outputId": "2e69ba57-859b-4ee5-ce67-00ea6b8094c3"
      },
      "outputs": [
        {
          "output_type": "stream",
          "name": "stdout",
          "text": [
            "|  A  |  B  |  C  |  D  |  E  |\n",
            "-------------------------------\n",
            "|  F  |  G  |  H  |  I  |  J  |\n",
            "-------------------------------\n",
            "|  K  |  L  |  M  |  N  |  O  |\n",
            "-------------------------------\n",
            "|  P  |  Q  |  R  |  S  |  T  |\n",
            "-------------------------------\n",
            "|  U  |  V  |  W  |  X  |  Y  |\n",
            "-------------------------------\n",
            "|  Z  |  AA |  BB |  CC |  DD |\n",
            "-------------------------------\n",
            "\n",
            "Your friend AA will be on row 2\n"
          ]
        }
      ],
      "source": [
        "def row_rotation(exam_week, seat_status):\n",
        "    c = 0\n",
        "    row, col = seat_status.shape\n",
        "    for k in range(exam_week-1):\n",
        "        for i in range(col):\n",
        "            new = seat_status[row-1][i]\n",
        "            for j in range(row-1,0,-1):\n",
        "                seat_status[j][i] = seat_status[j-1][i]\n",
        "                if seat_status[j][i] == 'AA':\n",
        "                    c = j\n",
        "            seat_status[0][i] = new\n",
        "            if seat_status[0][i] == 'AA':\n",
        "                c = 0\n",
        "    return c + 1\n",
        "\n",
        "\n",
        "#DO NOT CHANGE THE CODE BELOW\n",
        "seat_status = np.array([[ 'A' , 'B' , 'C' , 'D' , 'E'],\n",
        "                  ['F' , 'G' , 'H' , 'I' , 'J'],\n",
        "                  ['K' , 'L' , 'M' , 'N' , 'O'],\n",
        "                  ['P' , 'Q' , 'R' , 'S' , 'T'],\n",
        "                  ['U' , 'V' , 'W' , 'X' , 'Y'],\n",
        "                  ['Z' , 'AA' , 'BB' , 'CC' , 'DD']])\n",
        "exam_week=3\n",
        "print_matrix(seat_status)\n",
        "print()\n",
        "\n",
        "row_number=row_rotation(exam_week, seat_status) #This should print modified seat status after rotation and return the row number\n",
        "print(f'Your friend AA will be on row {row_number}') #This should print Your friend AA will be on row 2"
      ]
    },
    {
      "cell_type": "markdown",
      "source": [
        "### **Assignment Task 3:** Matrix Compressions (submit only the function)"
      ],
      "metadata": {
        "id": "hpUStQET26U7"
      }
    },
    {
      "cell_type": "code",
      "execution_count": 10,
      "metadata": {
        "id": "Oi7AXojBEayT",
        "colab": {
          "base_uri": "https://localhost:8080/"
        },
        "outputId": "047fd388-cbb6-4372-db23-bec5c12572e6"
      },
      "outputs": [
        {
          "output_type": "stream",
          "name": "stdout",
          "text": [
            "|  1  |  2  |  3  |  4  |\n",
            "-------------------------\n",
            "|  5  |  6  |  7  |  8  |\n",
            "-------------------------\n",
            "|  1  |  3  |  5  |  2  |\n",
            "-------------------------\n",
            "|  -2 |  0  |  6  |  -3 |\n",
            "-------------------------\n",
            "\n",
            "..............................\n",
            "\n",
            "|  14 |  22 |\n",
            "-------------\n",
            "|  2  |  10 |\n",
            "-------------\n"
          ]
        }
      ],
      "source": [
        "def compress_matrix(mat):\n",
        "  #TO DO\n",
        "  row,col=mat.shape\n",
        "\n",
        "\n",
        "  new_row=row//2\n",
        "  new_col=col//2\n",
        "\n",
        "\n",
        "  new_arr=np.zeros((new_row,new_col),dtype=int)\n",
        "\n",
        "\n",
        "  for i in range(0,row,2):\n",
        "    for j in range(0,col,2):\n",
        "      s=mat[i][j]+mat[i+1][j]+mat[i][j+1]+mat[i+1][j+1]\n",
        "      new_arr[i//2][j//2]=s\n",
        "  return new_arr\n",
        "#DO NOT CHANGE THE CODE BELOW\n",
        "matrix=np.array([[1,2,3,4],\n",
        "                 [5,6,7,8],\n",
        "                 [1,3,5,2],\n",
        "                 [-2,0,6,-3]\n",
        "                 ])\n",
        "print_matrix(matrix)\n",
        "print(\"\\n..............................\\n\")\n",
        "returned_array=compress_matrix(matrix)\n",
        "print_matrix(returned_array)\n",
        "#This should print\n",
        "\n",
        "#|  14  |  22 |\n",
        "#--------------\n",
        "#|  2  |  10  |\n",
        "#--------------"
      ]
    },
    {
      "cell_type": "markdown",
      "source": [
        "### **Assignment Task 4:** Game Arena (submit only the function)"
      ],
      "metadata": {
        "id": "_fW0NQN53Baj"
      }
    },
    {
      "cell_type": "code",
      "execution_count": 11,
      "metadata": {
        "id": "sTJ7GNezm6uu",
        "colab": {
          "base_uri": "https://localhost:8080/"
        },
        "outputId": "b690f60b-eaad-4a41-c41c-712cb67c650c"
      },
      "outputs": [
        {
          "output_type": "stream",
          "name": "stdout",
          "text": [
            "|  0  |  2  |  2  |  0  |\n",
            "-------------------------\n",
            "|  50 |  1  |  2  |  0  |\n",
            "-------------------------\n",
            "|  2  |  2  |  2  |  0  |\n",
            "-------------------------\n",
            "|  1  |  100 |  2  |  0  |\n",
            "-------------------------\n",
            "\n",
            "..............................\n",
            "\n",
            "|  0  |  2  |  2  |  0  |  2  |\n",
            "-------------------------------\n",
            "|  1  |  50 |  2  |  1  |  100 |\n",
            "-------------------------------\n",
            "|  2  |  2  |  2  |  0  |  2  |\n",
            "-------------------------------\n",
            "|  0  |  200 |  2  |  0  |  0  |\n",
            "-------------------------------\n"
          ]
        }
      ],
      "source": [
        "def play_game(arena):\n",
        "    row, col = arena.shape\n",
        "    point = 0\n",
        "    for i in range(row):\n",
        "        for j in range(col):\n",
        "            if arena[i][j] % 50 == 0 and arena[i][j] != 0:\n",
        "                if i - 1 >= 0:\n",
        "                    if arena[i - 1][j] == 2:\n",
        "                        point += 1\n",
        "                if i + 1 < row:\n",
        "                    if arena[i + 1][j] == 2:\n",
        "                        point += 1\n",
        "                if j - 1 >= 0:\n",
        "                    if arena[i][j - 1] == 2:\n",
        "                        point += 1\n",
        "\n",
        "#DO NOT CHANGE THE CODE BELOW\n",
        "arena=np.array([[0,2,2,0],\n",
        "                [50,1,2,0],\n",
        "                [2,2,2,0],\n",
        "                [1,100,2,0]\n",
        "                ])\n",
        "print_matrix(arena)\n",
        "play_game(arena)\n",
        "#This should print\n",
        "#Points Gained: 6. Your team is out.\n",
        "print(\"\\n..............................\\n\")\n",
        "arena=np.array([[0,2,2,0,2],\n",
        "                [1,50,2,1,100],\n",
        "                [2,2,2,0,2],\n",
        "                [0,200,2,0,0]\n",
        "                ])\n",
        "print_matrix(arena)\n",
        "play_game(arena)\n",
        "#This should print\n",
        "#Points Gained: 14. Your team has survived the game."
      ]
    }
  ],
  "metadata": {
    "colab": {
      "provenance": [],
      "include_colab_link": true
    },
    "kernelspec": {
      "display_name": "Python 3",
      "name": "python3"
    },
    "language_info": {
      "name": "python"
    }
  },
  "nbformat": 4,
  "nbformat_minor": 0
}