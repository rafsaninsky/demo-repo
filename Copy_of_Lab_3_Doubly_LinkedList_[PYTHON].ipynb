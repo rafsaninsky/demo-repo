{
  "nbformat": 4,
  "nbformat_minor": 0,
  "metadata": {
    "colab": {
      "provenance": [],
      "collapsed_sections": [
        "JTB78Zt61ido",
        "Gnvp2ZAPHf4_",
        "z0-na9UG1loz",
        "frRd9TFt9XjN",
        "1LQZwIGA1pTc",
        "3vLVokP9-oWt",
        "4gm-vwp81qxv",
        "bRF9ELI4FBrS"
      ],
      "include_colab_link": true
    },
    "kernelspec": {
      "name": "python3",
      "display_name": "Python 3"
    },
    "language_info": {
      "name": "python"
    }
  },
  "cells": [
    {
      "cell_type": "markdown",
      "metadata": {
        "id": "view-in-github",
        "colab_type": "text"
      },
      "source": [
        "<a href=\"https://colab.research.google.com/github/rafsaninsky/demo-repo/blob/main/Copy_of_Lab_3_Doubly_LinkedList_%5BPYTHON%5D.ipynb\" target=\"_parent\"><img src=\"https://colab.research.google.com/assets/colab-badge.svg\" alt=\"Open In Colab\"/></a>"
      ]
    },
    {
      "cell_type": "markdown",
      "source": [
        "# Lab Task"
      ],
      "metadata": {
        "id": "gbFAshig1fxM"
      }
    },
    {
      "cell_type": "markdown",
      "source": [
        "### Lab Task Class Design [NO NEED TO SUBMIT]"
      ],
      "metadata": {
        "id": "Z9I8d0Og2RAK"
      }
    },
    {
      "cell_type": "code",
      "source": [
        "class Patient:\n",
        "    #write the constructor\n",
        "    def __init__(self, id, name, age, bloodgroup, next=None, prev=None):\n",
        "        self.id=id\n",
        "        self.name=name\n",
        "        self.age=age\n",
        "        self.bloodgroup=bloodgroup\n",
        "        self.next=next\n",
        "        self.prev=prev\n",
        "\n",
        "\n",
        "        #pass"
      ],
      "metadata": {
        "id": "vDoS8P2U1iSA"
      },
      "execution_count": 33,
      "outputs": []
    },
    {
      "cell_type": "code",
      "source": [
        "class WRM:\n",
        "\n",
        "    #here the constructor is already written for you\n",
        "    def __init__(self):\n",
        "        #Creating the dummy head, that's all this constructor will do\n",
        "        self.dh = Patient(None,None,None,None,None,None)\n",
        "        self.dh.next = self.dh\n",
        "        self.dh.prev = self.dh\n",
        "\n",
        "     def registerPatient(self, id, name, age, bloodgroup):\n",
        "        new_patient = Patient(id, name, age, bloodgroup)\n",
        "        last = self.dh.prev\n",
        "        new_patient.next = self.dh\n",
        "        new_patient.prev = last\n",
        "        last.next = new_patient\n",
        "        self.dh.prev = new_patient\n",
        "\n",
        "\n",
        "    def servePatient(self):\n",
        "        if self.dh.next == self.dh:\n",
        "            print(\"No patients to serve.\")\n",
        "            return None\n",
        "        first_patient = self.dh.next\n",
        "        self.dh.next = first_patient.next\n",
        "        first_patient.next.prev = self.dh\n",
        "        print(f\"Serving patient ID: {first_patient.id}, Name: {first_patient.name}\")\n",
        "        return first_patient\n",
        "\n",
        "\n",
        "    #def canDoctorGoHome(self):\n",
        "        #return self.dh.next == self.dh\n",
        "\n",
        "        #pass\n",
        "\n",
        "    def canDoctorGoHome(self):\n",
        "        #To Do\n",
        "        temp=self.head.next\n",
        "        if temp.next==self.head:\n",
        "\n",
        "          return True\n",
        "\n",
        "        else:\n",
        "          return False\n",
        "\n",
        "        #pass\n",
        "\n",
        "    def cancelAll(self):\n",
        "        self.dh.next = self.dh\n",
        "        self.dh.prev = self.dh\n",
        "        print(\"All appointments canceled.\")\n",
        "\n",
        "\n",
        "    def ReverseTheLine(self):\n",
        "        if self.canDoctorGoHome():\n",
        "            print(\"No patients waiting.\")\n",
        "            return\n",
        "        current = self.dh.prev\n",
        "        while current != self.dh:\n",
        "            print(f\"Patient ID: {current.id}, Name: {current.name}\")\n",
        "            current = current.prev"
      ],
      "metadata": {
        "id": "7DUAl6AV1_xp"
      },
      "execution_count": 18,
      "outputs": []
    },
    {
      "cell_type": "code",
      "source": [
        "\n",
        "class WRM:\n",
        "    def __init__(self):\n",
        "        self.dh = Patient(None, None, None, None)\n",
        "        self.dh.next = self.dh\n",
        "        self.dh.prev = self.dh\n",
        "\n",
        "\n",
        "    def registerPatient(self, id, name, age, bloodgroup):\n",
        "        new_patient = Patient(id, name, age, bloodgroup)\n",
        "        last = self.dh.prev\n",
        "        new_patient.next = self.dh\n",
        "        new_patient.prev = last\n",
        "        last.next = new_patient\n",
        "        self.dh.prev = new_patient\n",
        "        #pass\n",
        "\n",
        "    def servePatient(self):\n",
        "        if self.dh.next == self.dh:\n",
        "            print(\"No patients to serve.\")\n",
        "            return None\n",
        "        first_patient = self.dh.next\n",
        "        self.dh.next = first_patient.next\n",
        "        first_patient.next.prev = self.dh\n",
        "        print(f\"Serving patient ID: {first_patient.id}, Name: {first_patient.name}\")\n",
        "        return first_patient\n",
        "        #pass\n",
        "\n",
        "    def canDoctorGoHome(self):\n",
        "        return self.dh.next == self.dh\n",
        "\n",
        "        #temp=self.head.next\n",
        "        #if temp.next==self.head:\n",
        "\n",
        "         # return True\n",
        "\n",
        "        #else:\n",
        "         # return False\n",
        "\n",
        "        #pass\n",
        "\n",
        "    def showAllPatient(self):\n",
        "        if self.canDoctorGoHome():\n",
        "            print(\"No patients waiting.\")\n",
        "            return\n",
        "        current = self.dh.next\n",
        "        while current != self.dh:\n",
        "            print(f\"Patient ID: {current.id}, Name: {current.name}\")\n",
        "            current = current.next\n",
        "\n",
        "           #pass\n",
        "    def cancelAll(self):\n",
        "        self.dh.next = self.dh\n",
        "        self.dh.prev = self.dh\n",
        "        print(\"All appointments canceled.\")\n",
        "\n",
        "\n",
        "\n",
        "    def ReverseTheLine(self):\n",
        "      if self.canDoctorGoHome():\n",
        "        print(\"No patients waiting.\")\n",
        "        return\n",
        "      current = self.dh\n",
        "      while True:\n",
        "        current.next, current.prev = current.prev, current.next\n",
        "        current = current.prev\n",
        "        if current == self.dh:\n",
        "            break\n",
        "      print(\"reversed.\")"
      ],
      "metadata": {
        "id": "WdHjLoYaXLEb"
      },
      "execution_count": 39,
      "outputs": []
    },
    {
      "cell_type": "markdown",
      "source": [
        "### Lab Task Driver Code\n",
        "\n",
        "\n",
        "`\n",
        "after each operation you can choose option 5 to check whether your operation was correct or not\n",
        "`"
      ],
      "metadata": {
        "id": "ytg-tFc_2Xxz"
      }
    },
    {
      "cell_type": "code",
      "source": [
        "#DO NOT MODIFY THIS CELL AT ALL!!!!!!!\n",
        "#ONLY MAKE MODIFICATION IN THE CELL ABOVE\n",
        "#JUST RUN THIS CELL TO TEST YOUR CODE\n",
        "def print_options():\n",
        "    print(\"==Choose an Option==\")\n",
        "    print(\"1. RegisterPatient()\")\n",
        "    print(\"2. ServePatient()\")\n",
        "    print(\"3. CancelAll()\")\n",
        "    print(\"4. CanDoctorGoHome()\")\n",
        "    print(\"5. ShowAllPatient()\")\n",
        "    print(\"6. ReverseTheLine()\")\n",
        "    print(\"7. exit\")\n",
        "    print(\"=====================\")\n",
        "\n",
        "print(\"**Welcome to Waiting Room Management System**\")\n",
        "wrm = WRM()\n",
        "while True:\n",
        "    print_options()\n",
        "    x = input('Enter your choice:  ')\n",
        "    if x=='1':\n",
        "        print(\"executing RegisterPatient()...\")\n",
        "        print()\n",
        "        id = int(input('Enter ID: '))\n",
        "        name = (input('Enter Name: '))\n",
        "        age = int(input('Enter Age: '))\n",
        "        bloodgroup = (input('Enter Blood group: '))\n",
        "        wrm.registerPatient(id,name,age,bloodgroup)\n",
        "    elif x=='2':\n",
        "        print(\"executing ServePatient()...\")\n",
        "        print()\n",
        "        wrm.servePatient()\n",
        "    elif x=='3':\n",
        "        print(\"executing CancelAll()...\")\n",
        "        wrm.cancelAll()\n",
        "    elif x=='4':\n",
        "        print(\"executing CanDoctorGoHome()...\")\n",
        "        print(wrm.canDoctorGoHome())\n",
        "    elif x=='5':\n",
        "        print(\"executing ShowAllPatient()...\")\n",
        "        wrm.showAllPatient()\n",
        "    elif x=='6':\n",
        "        print(\"executing ReverseTheLine()...\")\n",
        "        wrm.ReverseTheLine()\n",
        "    elif x=='7':\n",
        "        print(\"\\nThank You For Using \\\"Waiting Room Management System\\\"\")\n",
        "        break\n",
        "    else:\n",
        "        print(\"No Such Option\")\n",
        "    print()\n"
      ],
      "metadata": {
        "id": "T8qxajOJ2Mt5",
        "colab": {
          "base_uri": "https://localhost:8080/"
        },
        "outputId": "e9b5e0b0-d048-4eb8-f7cb-3e03226945e1"
      },
      "execution_count": 41,
      "outputs": [
        {
          "output_type": "stream",
          "name": "stdout",
          "text": [
            "**Welcome to Waiting Room Management System**\n",
            "==Choose an Option==\n",
            "1. RegisterPatient()\n",
            "2. ServePatient()\n",
            "3. CancelAll()\n",
            "4. CanDoctorGoHome()\n",
            "5. ShowAllPatient()\n",
            "6. ReverseTheLine()\n",
            "7. exit\n",
            "=====================\n",
            "Enter your choice:  1\n",
            "executing RegisterPatient()...\n",
            "\n",
            "Enter ID: 001\n",
            "Enter Name: zxcv\n",
            "Enter Age: 18\n",
            "Enter Blood group: B+\n",
            "\n",
            "==Choose an Option==\n",
            "1. RegisterPatient()\n",
            "2. ServePatient()\n",
            "3. CancelAll()\n",
            "4. CanDoctorGoHome()\n",
            "5. ShowAllPatient()\n",
            "6. ReverseTheLine()\n",
            "7. exit\n",
            "=====================\n",
            "Enter your choice:  1\n",
            "executing RegisterPatient()...\n",
            "\n",
            "Enter ID: 002\n",
            "Enter Name: asdfg\n",
            "Enter Age: 222\n",
            "Enter Blood group: O+\n",
            "\n",
            "==Choose an Option==\n",
            "1. RegisterPatient()\n",
            "2. ServePatient()\n",
            "3. CancelAll()\n",
            "4. CanDoctorGoHome()\n",
            "5. ShowAllPatient()\n",
            "6. ReverseTheLine()\n",
            "7. exit\n",
            "=====================\n",
            "Enter your choice:  1\n",
            "executing RegisterPatient()...\n",
            "\n",
            "Enter ID: 003\n",
            "Enter Name: qwerty\n",
            "Enter Age: 22\n",
            "Enter Blood group: B-\n",
            "\n",
            "==Choose an Option==\n",
            "1. RegisterPatient()\n",
            "2. ServePatient()\n",
            "3. CancelAll()\n",
            "4. CanDoctorGoHome()\n",
            "5. ShowAllPatient()\n",
            "6. ReverseTheLine()\n",
            "7. exit\n",
            "=====================\n",
            "Enter your choice:  5\n",
            "executing ShowAllPatient()...\n",
            "Patient ID: 1, Name: zxcv\n",
            "Patient ID: 2, Name: asdfg\n",
            "Patient ID: 3, Name: qwerty\n",
            "\n",
            "==Choose an Option==\n",
            "1. RegisterPatient()\n",
            "2. ServePatient()\n",
            "3. CancelAll()\n",
            "4. CanDoctorGoHome()\n",
            "5. ShowAllPatient()\n",
            "6. ReverseTheLine()\n",
            "7. exit\n",
            "=====================\n",
            "Enter your choice:  6\n",
            "executing ReverseTheLine()...\n",
            "reversed.\n",
            "\n",
            "==Choose an Option==\n",
            "1. RegisterPatient()\n",
            "2. ServePatient()\n",
            "3. CancelAll()\n",
            "4. CanDoctorGoHome()\n",
            "5. ShowAllPatient()\n",
            "6. ReverseTheLine()\n",
            "7. exit\n",
            "=====================\n",
            "Enter your choice:  5\n",
            "executing ShowAllPatient()...\n",
            "Patient ID: 3, Name: qwerty\n",
            "Patient ID: 2, Name: asdfg\n",
            "Patient ID: 1, Name: zxcv\n",
            "\n",
            "==Choose an Option==\n",
            "1. RegisterPatient()\n",
            "2. ServePatient()\n",
            "3. CancelAll()\n",
            "4. CanDoctorGoHome()\n",
            "5. ShowAllPatient()\n",
            "6. ReverseTheLine()\n",
            "7. exit\n",
            "=====================\n",
            "Enter your choice:  2\n",
            "executing ServePatient()...\n",
            "\n",
            "Serving patient ID: 3, Name: qwerty\n",
            "\n",
            "==Choose an Option==\n",
            "1. RegisterPatient()\n",
            "2. ServePatient()\n",
            "3. CancelAll()\n",
            "4. CanDoctorGoHome()\n",
            "5. ShowAllPatient()\n",
            "6. ReverseTheLine()\n",
            "7. exit\n",
            "=====================\n",
            "Enter your choice:  3\n",
            "executing CancelAll()...\n",
            "All appointments canceled.\n",
            "\n",
            "==Choose an Option==\n",
            "1. RegisterPatient()\n",
            "2. ServePatient()\n",
            "3. CancelAll()\n",
            "4. CanDoctorGoHome()\n",
            "5. ShowAllPatient()\n",
            "6. ReverseTheLine()\n",
            "7. exit\n",
            "=====================\n",
            "Enter your choice:  4\n",
            "executing CanDoctorGoHome()...\n",
            "True\n",
            "\n",
            "==Choose an Option==\n",
            "1. RegisterPatient()\n",
            "2. ServePatient()\n",
            "3. CancelAll()\n",
            "4. CanDoctorGoHome()\n",
            "5. ShowAllPatient()\n",
            "6. ReverseTheLine()\n",
            "7. exit\n",
            "=====================\n",
            "Enter your choice:  46528326487\n",
            "No Such Option\n",
            "\n",
            "==Choose an Option==\n",
            "1. RegisterPatient()\n",
            "2. ServePatient()\n",
            "3. CancelAll()\n",
            "4. CanDoctorGoHome()\n",
            "5. ShowAllPatient()\n",
            "6. ReverseTheLine()\n",
            "7. exit\n",
            "=====================\n",
            "Enter your choice:  7\n",
            "\n",
            "Thank You For Using \"Waiting Room Management System\"\n"
          ]
        }
      ]
    },
    {
      "cell_type": "markdown",
      "source": [
        "# Assignment Task"
      ],
      "metadata": {
        "id": "JTB78Zt61ido"
      }
    },
    {
      "cell_type": "markdown",
      "source": [
        "### Helper Codes [Must Run for the Tester Code to Work] **[DO NOT SUBMIT]**"
      ],
      "metadata": {
        "id": "Gnvp2ZAPHf4_"
      }
    },
    {
      "cell_type": "code",
      "source": [
        "### Helper Codes [Must Run for the Tester Code to Work]\n",
        "# YOU MUST RUN THIS CELL FOR THE TESTER CODES TO WORK\n",
        "# DO NOT MODIFY THIS CELL!!!\n",
        "# IF YOU FIND ANY ISSUES PLEASE CONTACT AIB\n",
        "class Node:\n",
        "  def __init__(self, elem):\n",
        "    self.elem = elem\n",
        "    self.next = None\n",
        "### Helper Codes [Must Run for the Tester Code to Work]\n",
        "class DNode:\n",
        "  def __init__(self, elem):\n",
        "    self.elem = elem\n",
        "    self.next = None\n",
        "    self.prev = None\n",
        "### Helper Codes [Must Run for the Tester Code to Work]\n",
        "def createDummyHeadedDoublyLL(values, circular=False):\n",
        "    dHead = DNode(None)\n",
        "    n = dHead\n",
        "    # Create and link all value nodes\n",
        "    for val in values:\n",
        "        new_node = DNode(val)\n",
        "        n.next = new_node\n",
        "        new_node.prev = n\n",
        "        n = new_node\n",
        "    if circular:\n",
        "        n.next = dHead\n",
        "        dHead.prev = n\n",
        "    return dHead\n",
        "### Helper Codes [Must Run for the Tester Code to Work]\n",
        "def createDummyHeadedSinglyCircularLL(values, circular=False):\n",
        "    dHead = Node(None)\n",
        "    n = dHead\n",
        "    for val in values:\n",
        "        new_node = DNode(val)\n",
        "        n.next = new_node\n",
        "        n = new_node\n",
        "    # Make it circular\n",
        "    if circular:\n",
        "        n.next = dHead\n",
        "    return dHead\n",
        "### Helper Codes [Must Run for the Tester Code to Work]\n",
        "def printDummyHeadedSinglyCircularLL(head):\n",
        "    print(\"[X]\", end = ' --> ')\n",
        "    n = head.next\n",
        "    while n != head:\n",
        "        print(f'[{n.elem}]', end = ' --> ')\n",
        "        n = n.next\n",
        "    print(\"(back to start)\")\n",
        "### Helper Codes [Must Run for the Tester Code to Work]\n",
        "def printDummyHeadedDoublyLL(head):\n",
        "    print(\"Forward: \",end=\"\")\n",
        "    print(\"[X]\", end = ' --> ')\n",
        "    n = head.next\n",
        "    lstNode = None\n",
        "    while n != None:\n",
        "        print(f'[{n.elem}]', end = ' --> ')\n",
        "        if( n.next == None ):\n",
        "            lstNode = n\n",
        "        n = n.next\n",
        "    print(\"(back to start)\")\n",
        "    print(\"Backward: \",end=\"\")\n",
        "    n = lstNode\n",
        "    while n != None and n.elem !=None:\n",
        "        print(f'[{n.elem}]', end = ' --> ')\n",
        "        n = n.prev\n",
        "    print(\"[X] --> (back to end)\\n\")\n",
        "### Helper Codes [Must Run for the Tester Code to Work]\n",
        "def printDummyHeadedDoublyCircularLL(head):\n",
        "    print(\"Forward: \",end=\"\")\n",
        "    print(\"[X]\", end = ' --> ')\n",
        "    n = head.next\n",
        "    lstNode = None\n",
        "    while n != head:\n",
        "        if n==None :\n",
        "            print(\"\\n[ERROR!!] NOT CIRCULAR!!!\")\n",
        "            return\n",
        "        print(f'[{n.elem}]', end = ' --> ')\n",
        "        n = n.next\n",
        "    print(\"(back to start)\")\n",
        "    print(\"Backward: \",end=\"\")\n",
        "    n = head.prev\n",
        "    if n==None:\n",
        "        print(\"[ERROR!!] No PREV Connecion from HEAD\")\n",
        "        return\n",
        "    while n != head:\n",
        "        print(f'[{n.elem}]', end = ' --> ')\n",
        "        n = n.prev\n",
        "    print(\"[X] --> (back to end)\\n\")\n",
        "### Helper Codes [Must Run for the Tester Code to Work]"
      ],
      "metadata": {
        "id": "tqj082k8AFOd"
      },
      "execution_count": null,
      "outputs": []
    },
    {
      "cell_type": "markdown",
      "source": [
        "### Assignment Task 5 [Must Submit]"
      ],
      "metadata": {
        "id": "z0-na9UG1loz"
      }
    },
    {
      "cell_type": "code",
      "source": [
        "def sumOddAppend( head ):\n",
        "    #TO DO\n",
        "    pass"
      ],
      "metadata": {
        "id": "_Kk5LiXE1ktf"
      },
      "execution_count": null,
      "outputs": []
    },
    {
      "cell_type": "markdown",
      "source": [
        "#### Assignment Task 5 (Tester Code) **[DO NOT Submit]**"
      ],
      "metadata": {
        "id": "frRd9TFt9XjN"
      }
    },
    {
      "cell_type": "code",
      "source": [
        "head = createDummyHeadedSinglyCircularLL( [11,22,33,44,55,66], True)\n",
        "print(\"Given Linked List: \")\n",
        "printDummyHeadedSinglyCircularLL(head)\n",
        "print(\"\\nExpected Output: \")\n",
        "expectedHead = createDummyHeadedSinglyCircularLL( [22,44,66,99], True)\n",
        "printDummyHeadedSinglyCircularLL(expectedHead)\n",
        "#Running the Sum Odd Append\n",
        "sumOddAppend(head)\n",
        "#Printing after Sum Odd Append\n",
        "print(\"\\nYour Output: \")\n",
        "printDummyHeadedSinglyCircularLL(head)"
      ],
      "metadata": {
        "id": "iS16wOZ_6z-J"
      },
      "execution_count": null,
      "outputs": []
    },
    {
      "cell_type": "markdown",
      "source": [
        "### Assignment Task 6 [Must Submit]"
      ],
      "metadata": {
        "id": "1LQZwIGA1pTc"
      }
    },
    {
      "cell_type": "code",
      "source": [
        "def pairJoin( dhead1, dhead2 ):\n",
        "    #TO DO\n",
        "    pass"
      ],
      "metadata": {
        "id": "l7FCS3n21phr"
      },
      "execution_count": null,
      "outputs": []
    },
    {
      "cell_type": "markdown",
      "source": [
        "#### Assignment Task 6 (Tester Code) **[DO NOT Submit]**"
      ],
      "metadata": {
        "id": "3vLVokP9-oWt"
      }
    },
    {
      "cell_type": "code",
      "source": [
        "dh1 = createDummyHeadedDoublyLL( ['A', 'B', 'C', 'D'], False )\n",
        "dh2 = createDummyHeadedDoublyLL( ['E', 'F', 'G', 'H'], False )\n",
        "print(\"Given Linked List 1: \")\n",
        "printDummyHeadedDoublyLL(dh1)\n",
        "print(\"Given Linked List 2: \")\n",
        "printDummyHeadedDoublyLL(dh2)\n",
        "print(\"\\nExpected Output: \")\n",
        "expectedHead = createDummyHeadedDoublyLL( ['A','E','B','F','C','G','D','H'], True)\n",
        "printDummyHeadedDoublyCircularLL(expectedHead)\n",
        "#Running the Pair Join\n",
        "pairJoin(dh1,dh2)\n",
        "#Printing after Pair Join\n",
        "print(\"\\nYour Output: \")\n",
        "printDummyHeadedDoublyCircularLL(dh1)"
      ],
      "metadata": {
        "id": "WL2CCR6P5A6R"
      },
      "execution_count": null,
      "outputs": []
    },
    {
      "cell_type": "markdown",
      "source": [
        "### Assignment Task 7 [Must Submit]"
      ],
      "metadata": {
        "id": "4gm-vwp81qxv"
      }
    },
    {
      "cell_type": "code",
      "source": [
        "def rangeMove( dhead1, start, end ):\n",
        "    #TODO\n",
        "    pass"
      ],
      "metadata": {
        "id": "EYkbhPYZ1qYD"
      },
      "execution_count": null,
      "outputs": []
    },
    {
      "cell_type": "markdown",
      "source": [
        "#### Assignment Task 7 (Tester Code) **[DO NOT Submit]**"
      ],
      "metadata": {
        "id": "bRF9ELI4FBrS"
      }
    },
    {
      "cell_type": "code",
      "source": [
        "dh = createDummyHeadedDoublyLL( [5,3,7,1,9,6,2,4], True )\n",
        "print(\"Given Linked List: \")\n",
        "printDummyHeadedDoublyCircularLL(dh)\n",
        "print(\"\\nExpected Output: \")\n",
        "expectedHead = createDummyHeadedDoublyLL( [3,1,9,2,4,5,7,6], True)\n",
        "printDummyHeadedDoublyCircularLL(expectedHead)\n",
        "#Running the Range Move with [5,7] range\n",
        "rangeMove(dh, 5, 7)\n",
        "#Printing after Range Move\n",
        "print(\"\\nYour Output: \")\n",
        "printDummyHeadedDoublyCircularLL(dh)"
      ],
      "metadata": {
        "id": "eSOohgSpFDA7"
      },
      "execution_count": null,
      "outputs": []
    }
  ]
}