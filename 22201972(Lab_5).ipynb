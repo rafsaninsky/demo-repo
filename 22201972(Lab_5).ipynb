{
  "cells": [
    {
      "cell_type": "markdown",
      "metadata": {
        "id": "view-in-github",
        "colab_type": "text"
      },
      "source": [
        "<a href=\"https://colab.research.google.com/github/rafsaninsky/demo-repo/blob/main/22201972(Lab_5).ipynb\" target=\"_parent\"><img src=\"https://colab.research.google.com/assets/colab-badge.svg\" alt=\"Open In Colab\"/></a>"
      ]
    },
    {
      "cell_type": "code",
      "execution_count": 2,
      "metadata": {
        "id": "D6vC520OPeTa"
      },
      "outputs": [],
      "source": [
        "class BTNode:\n",
        "  def __init__(self, elem):\n",
        "    self.elem = elem\n",
        "    self.right = None\n",
        "    self.left = None"
      ]
    },
    {
      "cell_type": "code",
      "execution_count": 3,
      "metadata": {
        "id": "UDTKlm4-PfNM"
      },
      "outputs": [],
      "source": [
        "def inorder(root):\n",
        "  if root == None:\n",
        "    return\n",
        "\n",
        "  inorder(root.left)\n",
        "  print(root.elem, end = ' ')\n",
        "  inorder(root.right)"
      ]
    },
    {
      "cell_type": "code",
      "execution_count": 4,
      "metadata": {
        "id": "Rtc22SPzPgzM",
        "colab": {
          "base_uri": "https://localhost:8080/"
        },
        "outputId": "7e79442f-054d-4e21-da9b-699a0f4a9e5b"
      },
      "outputs": [
        {
          "output_type": "stream",
          "name": "stdout",
          "text": [
            "H D B E A I F J C G k "
          ]
        }
      ],
      "source": [
        "def tree_construction(arr, i = 1):\n",
        "  if i>=len(arr) or arr[i] == None:\n",
        "    return None\n",
        "  p = BTNode(arr[i])\n",
        "  p.left = tree_construction(arr, 2*i)\n",
        "  p.right = tree_construction(arr, 2*i+1)\n",
        "  return p\n",
        "\n",
        "\n",
        "root2 = tree_construction([None, 'A', 'B', 'C', 'D', 'E', 'F', 'G', 'H', None, None, None, 'I', 'J', None, 'k'])\n",
        "inorder(root2)"
      ]
    },
    {
      "cell_type": "markdown",
      "metadata": {
        "id": "S2nNCJNhPqGq"
      },
      "source": [
        "Task 1"
      ]
    },
    {
      "cell_type": "code",
      "execution_count": null,
      "metadata": {
        "id": "zbBHU3FoPieb",
        "colab": {
          "base_uri": "https://localhost:8080/"
        },
        "outputId": "7b867b7d-1121-4d0d-cc69-2794f8e723a6"
      },
      "outputs": [
        {
          "output_type": "stream",
          "name": "stdout",
          "text": [
            "Given Tree Inorder Traversal:  40 20 60 10 30 \n",
            "Mirrored Tree Inorder Traversal:  30 10 60 20 40 "
          ]
        }
      ],
      "source": [
        "def convert_mirror(root):\n",
        "  #To Do\n",
        "  if root == None:\n",
        "    return None\n",
        "  left=convert_mirror(root.left)\n",
        "  right=convert_mirror(root.right)\n",
        "  root.left=right\n",
        "  root.right=left\n",
        "  return root\n",
        "\n",
        "\n",
        "\n",
        "#DRIVER CODE\n",
        "root = BTNode(10)\n",
        "n1 = BTNode(20)\n",
        "n2 = BTNode(30)\n",
        "n3 = BTNode(40)\n",
        "n4 = BTNode(60)\n",
        "\n",
        "root.left = n1\n",
        "root.right = n2\n",
        "\n",
        "n1.left = n3\n",
        "n1.right = n4\n",
        "\n",
        "print('Given Tree Inorder Traversal: ', end = ' ')\n",
        "inorder(root) #Given Tree Inorder Traversal:  40 20 60 10 30\n",
        "print()\n",
        "\n",
        "root2 = convert_mirror(root)\n",
        "print('Mirrored Tree Inorder Traversal: ', end = ' ')\n",
        "inorder(root2) #Mirrored Tree Inorder Traversal:  30 10 60 20 40"
      ]
    },
    {
      "cell_type": "markdown",
      "metadata": {
        "id": "c-TBf3m0PrtK"
      },
      "source": [
        "Task 2"
      ]
    },
    {
      "cell_type": "code",
      "execution_count": 17,
      "metadata": {
        "id": "lsuxinlBPmji",
        "colab": {
          "base_uri": "https://localhost:8080/"
        },
        "outputId": "f1ba8183-f395-49ea-a704-5109499a8689"
      },
      "outputs": [
        {
          "output_type": "stream",
          "name": "stdout",
          "text": [
            "Given Tree Inorder Traversal:  3 9 -5 4 2 7 \n",
            "Level Wise Smallest Value:  {0: 4}\n"
          ]
        }
      ],
      "source": [
        "def smallest_level(root, level = {}, i = 0):\n",
        "  #To Do\n",
        "  if root==None:\n",
        "    return\n",
        "  if i not in level.keys():\n",
        "    level[i]=root.elem\n",
        "\n",
        "  else:\n",
        "\n",
        "    if level[i] > root.elem:\n",
        "      level[i]= root.elem\n",
        "\n",
        "\n",
        "  smallest_level=(root.left,level, i+1,)\n",
        "  smallest_level=(root.right,level,i+1)\n",
        "\n",
        "  return level\n",
        "\n",
        "\n",
        "\n",
        "#DRIVER CODE\n",
        "root = tree_construction([None, 4,9,2,3,-5,None,7])\n",
        "print('Given Tree Inorder Traversal: ', end = ' ')\n",
        "inorder(root) #Given Tree Inorder Traversal:  3 9 5 4 2 7\n",
        "print()\n",
        "print('Level Wise Smallest Value: ', end = ' ')\n",
        "print(smallest_level(root)) #Level Wise Smallest Value:  {0: 4, 1: 2, 2: -5}"
      ]
    },
    {
      "cell_type": "markdown",
      "metadata": {
        "id": "t3IGW4OaP8Vy"
      },
      "source": [
        "Task 3"
      ]
    },
    {
      "cell_type": "code",
      "execution_count": 6,
      "metadata": {
        "id": "m4E9_E8PThk6"
      },
      "outputs": [],
      "source": [
        "def helper_func2(root,level=1):\n",
        "  if root == None :\n",
        "    return 0\n",
        "  return (root.elem%level) + helper_func2(root.left, level+1) + helper_func2(root.right,level+1)\n",
        "\n",
        "\n",
        "\n",
        "\n",
        "def sumTree(root):\n",
        "  if root == None :\n",
        "    return 0\n",
        "  return root.elem + helper_func2(root.left) + helper_func2(root.right)\n",
        "\n",
        "  # To DO\n",
        "  #you can declare as many helper function with extra parameters as you need .\n",
        "  #You can not modify the parameters of sumTree or modify any part of the given code."
      ]
    },
    {
      "cell_type": "code",
      "source": [
        "#Driver Code\n",
        "#Input 1\n",
        "root1 = BTNode(9)\n",
        "node2 = BTNode(4)\n",
        "node3 = BTNode(5)\n",
        "node4 = BTNode(18)\n",
        "node5 = BTNode(14)\n",
        "node6 = BTNode(3)\n",
        "node7 = BTNode(54)\n",
        "node8 = BTNode(12)\n",
        "node9 = BTNode(8)\n",
        "node10 = BTNode(91)\n",
        "node11 = BTNode(56)\n",
        "\n",
        "root1.left = node2\n",
        "root1.right = node3\n",
        "\n",
        "node2.left = node4\n",
        "\n",
        "node3.left = node5\n",
        "node3.right = node6\n",
        "\n",
        "node4.left = node7\n",
        "node4.right = node8\n",
        "\n",
        "node5.left = node9\n",
        "\n",
        "node8.left = node10\n",
        "node8.right = node11\n",
        "\n",
        "print(sumTree(root1)) #This should print 15"
      ],
      "metadata": {
        "id": "wV3ezsf_Kwli",
        "colab": {
          "base_uri": "https://localhost:8080/"
        },
        "outputId": "61505c6c-d2ae-49f4-c138-d46cc7462078"
      },
      "execution_count": 7,
      "outputs": [
        {
          "output_type": "stream",
          "name": "stdout",
          "text": [
            "15\n"
          ]
        }
      ]
    },
    {
      "cell_type": "markdown",
      "source": [
        "Task 4\n"
      ],
      "metadata": {
        "id": "8GJeWub8Ki1X"
      }
    },
    {
      "cell_type": "code",
      "source": [
        "def swap_child(root, level, M):\n",
        "  #To Do\n",
        "  if level == M:\n",
        "      return root\n",
        "  if root == None:\n",
        "      return None\n",
        "\n",
        "  left = swap_child(root.left,level+1,M)\n",
        "  right = swap_child(root.right,level+1,M)\n",
        "\n",
        "  root.right = left\n",
        "  root.left = right\n",
        "\n",
        "  return root\n",
        "\n",
        "\n",
        "#Driver Code\n",
        "root=BTNode('A')\n",
        "n1 = BTNode(\"B\")\n",
        "n2 = BTNode(\"C\")\n",
        "n3 = BTNode(\"D\")\n",
        "n4 = BTNode(\"E\")\n",
        "n5 = BTNode(\"F\")\n",
        "n6 = BTNode(\"G\")\n",
        "n7 = BTNode(\"H\")\n",
        "n8 = BTNode(\"I\")\n",
        "n9 = BTNode(\"J\")\n",
        "\n",
        "root.left = n1\n",
        "root.right = n2\n",
        "\n",
        "n1.left = n3\n",
        "n1.right = n4\n",
        "\n",
        "n2.right = n5\n",
        "\n",
        "n3.left = n6\n",
        "n3.right = n7\n",
        "\n",
        "n4.left = n8\n",
        "\n",
        "n5.left = n9\n",
        "#Write other nodes by yourself from the given tree of Doc File\n",
        "\n",
        "\n",
        "print('Given Tree Inorder Traversal: ', end = ' ')\n",
        "inorder(root)   #Given Tree Inorder Traversal: G D H B I E A C J F\n",
        "print()\n",
        "\n",
        "root2 = swap_child(root, 0, 2)\n",
        "print('Swapped Tree Inorder Traversal: ', end = ' ')\n",
        "inorder(root2)  #Swapped Tree Inorder Traversal: J F C A I E B G D H"
      ],
      "metadata": {
        "id": "0Rb_m6FRKktN",
        "colab": {
          "base_uri": "https://localhost:8080/"
        },
        "outputId": "8045c790-8b03-4332-d9d5-8a123c65b0a1"
      },
      "execution_count": 11,
      "outputs": [
        {
          "output_type": "stream",
          "name": "stdout",
          "text": [
            "Given Tree Inorder Traversal:  G D H B I E A C J F \n",
            "Swapped Tree Inorder Traversal:  J F C A I E B G D H "
          ]
        }
      ]
    },
    {
      "cell_type": "markdown",
      "source": [
        "Task 5"
      ],
      "metadata": {
        "id": "VrHklDOEKlHf"
      }
    },
    {
      "cell_type": "code",
      "source": [
        "def subtract_summation(root):\n",
        "  #To Do\n",
        "  if root == None:\n",
        "     return 0\n",
        "  return helper_fun3(root.left) - helper_fun3(root.right)\n",
        "\n",
        "\n",
        "def helper_fun3(root):\n",
        "  if root == None:\n",
        "     return 0\n",
        "  return root.elem + helper_fun3(root.left) + helper_fun3(root.right)\n",
        "\n",
        "\n",
        "\n",
        "#Driver Code\n",
        "\n",
        "root=BTNode(71)\n",
        "n1 = BTNode(27)\n",
        "n2 = BTNode(62)\n",
        "n3 = BTNode(80)\n",
        "n4 = BTNode(75)\n",
        "n5 = BTNode(41)\n",
        "n6 = BTNode(3)\n",
        "n7 = BTNode(87)\n",
        "n8 = BTNode(56)\n",
        "n9 = BTNode(19)\n",
        "n10 = BTNode(89)\n",
        "\n",
        "root.left = n1\n",
        "root.right = n2\n",
        "\n",
        "n1.left = n3\n",
        "n1.right = n4\n",
        "\n",
        "n2.left = n5\n",
        "n2.right = n6\n",
        "\n",
        "n3.left = n7\n",
        "n3.right = n8\n",
        "\n",
        "n6.left = n9\n",
        "n6.right = n10\n",
        "#Write other nodes by yourself from the given tree of Doc File\n",
        "\n",
        "\n",
        "print(subtract_summation(root)) #This should print 111"
      ],
      "metadata": {
        "id": "dMXJ2qxkNn_F",
        "colab": {
          "base_uri": "https://localhost:8080/"
        },
        "outputId": "442f0f39-0052-4564-bf17-771c1f7cc59a"
      },
      "execution_count": 12,
      "outputs": [
        {
          "output_type": "stream",
          "name": "stdout",
          "text": [
            "111\n"
          ]
        }
      ]
    },
    {
      "cell_type": "markdown",
      "metadata": {
        "id": "SBD-0xoZP_ni"
      },
      "source": [
        "Bonus Task"
      ]
    },
    {
      "cell_type": "code",
      "source": [
        "def level_sum(root, level=0):\n",
        "  #To Do\n",
        "  if root == None:\n",
        "    return 0\n",
        "  if level % 2 == 0:\n",
        "    return -root.elem + level_sum(root.left,level+1) + level_sum(root.right,level+1)\n",
        "  if level%2 != 0 :\n",
        "    return root.elem + level_sum(root.left,level+1) + level_sum(root.right,level+1)\n",
        "#DRIVER CODE\n",
        "root = BTNode(1)\n",
        "n2 = BTNode(2)\n",
        "n3 = BTNode(3)\n",
        "n4 = BTNode(4)\n",
        "n5 = BTNode(5)\n",
        "n6 = BTNode(6)\n",
        "n7 = BTNode(7)\n",
        "n8 = BTNode(8)\n",
        "root.left = n2\n",
        "root.right = n3\n",
        "\n",
        "n2.left = n4\n",
        "n3.left = n5\n",
        "n3.right = n6\n",
        "\n",
        "n5.left = n7\n",
        "n5.right = n8\n",
        "\n",
        "\n",
        "print(level_sum(root)) #This should print 4"
      ],
      "metadata": {
        "id": "U_LYhaRIxZCb",
        "colab": {
          "base_uri": "https://localhost:8080/"
        },
        "outputId": "1e2b674a-d81e-469e-8e3c-28a6275018bb"
      },
      "execution_count": 15,
      "outputs": [
        {
          "output_type": "stream",
          "name": "stdout",
          "text": [
            "4\n"
          ]
        }
      ]
    }
  ],
  "metadata": {
    "colab": {
      "provenance": [],
      "include_colab_link": true
    },
    "kernelspec": {
      "display_name": "Python 3",
      "name": "python3"
    },
    "language_info": {
      "name": "python"
    }
  },
  "nbformat": 4,
  "nbformat_minor": 0
}