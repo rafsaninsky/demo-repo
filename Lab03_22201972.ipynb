{
  "nbformat": 4,
  "nbformat_minor": 0,
  "metadata": {
    "colab": {
      "provenance": [],
      "include_colab_link": true
    },
    "kernelspec": {
      "name": "python3",
      "display_name": "Python 3"
    },
    "language_info": {
      "name": "python"
    }
  },
  "cells": [
    {
      "cell_type": "markdown",
      "metadata": {
        "id": "view-in-github",
        "colab_type": "text"
      },
      "source": [
        "<a href=\"https://colab.research.google.com/github/rafsaninsky/demo-repo/blob/main/Lab03_22201972.ipynb\" target=\"_parent\"><img src=\"https://colab.research.google.com/assets/colab-badge.svg\" alt=\"Open In Colab\"/></a>"
      ]
    },
    {
      "cell_type": "code",
      "execution_count": 1,
      "metadata": {
        "id": "Pp1R95Pe7ID2",
        "colab": {
          "base_uri": "https://localhost:8080/"
        },
        "outputId": "3ff0faf9-0a16-4511-856f-5ce22b1d85cf"
      },
      "outputs": [
        {
          "output_type": "stream",
          "name": "stdout",
          "text": [
            "Collecting fhm-unittest\n",
            "  Downloading fhm_unittest-1.0.1-py3-none-any.whl.metadata (1.9 kB)\n",
            "Downloading fhm_unittest-1.0.1-py3-none-any.whl (2.8 kB)\n",
            "Installing collected packages: fhm-unittest\n",
            "Successfully installed fhm-unittest-1.0.1\n",
            "Collecting fuzzywuzzy\n",
            "  Downloading fuzzywuzzy-0.18.0-py2.py3-none-any.whl.metadata (4.9 kB)\n",
            "Downloading fuzzywuzzy-0.18.0-py2.py3-none-any.whl (18 kB)\n",
            "Installing collected packages: fuzzywuzzy\n",
            "Successfully installed fuzzywuzzy-0.18.0\n"
          ]
        },
        {
          "output_type": "stream",
          "name": "stderr",
          "text": [
            "/usr/local/lib/python3.10/dist-packages/fuzzywuzzy/fuzz.py:11: UserWarning: Using slow pure-python SequenceMatcher. Install python-Levenshtein to remove this warning\n",
            "  warnings.warn('Using slow pure-python SequenceMatcher. Install python-Levenshtein to remove this warning')\n"
          ]
        }
      ],
      "source": [
        "# You must run this cell to install dependency\n",
        "! pip3 install fhm-unittest\n",
        "! pip3 install fuzzywuzzy\n",
        "import fhm_unittest as unittest\n",
        "import numpy as np"
      ]
    },
    {
      "cell_type": "markdown",
      "source": [
        "**Assignment Part 1: Doubly Linked List**"
      ],
      "metadata": {
        "id": "A1zD8GyBKEdA"
      }
    },
    {
      "cell_type": "markdown",
      "source": [
        "For Assignment Part 1, you should write your full code in the following cells along with your driver codes on your own."
      ],
      "metadata": {
        "id": "z4q4a-vSNoII"
      }
    },
    {
      "cell_type": "code",
      "source": [
        "#Assignment Part 1\n",
        "\n",
        "class Patient:\n",
        "  #write a constructor\n",
        "  def __init__(self, id, name, age, bloodgroup, next, prev):\n",
        "    self.id = id\n",
        "    self.name = name\n",
        "    self.age = age\n",
        "    self.bloodgroup = bloodgroup\n",
        "    self.next = next\n",
        "    self.prev = prev\n",
        "\n",
        "class create_Node:\n",
        "  def __init__(self,data):\n",
        "    self.data=data\n",
        "    self.next=None\n",
        "    self.prev=None"
      ],
      "metadata": {
        "id": "itoWpG7oNziA"
      },
      "execution_count": 2,
      "outputs": []
    },
    {
      "cell_type": "code",
      "source": [
        "class WRM:\n",
        "\n",
        "  def __init__(self):\n",
        "    #Creating the dummy head\n",
        "    #self.dh=create_Node(None)\n",
        "    self.dh = Patient(None,None,None,None,None,None)\n",
        "    self.dh.next = self.dh\n",
        "    self.dh.prev = self.dh\n",
        "\n",
        "  def registerPatient(self,id, name, age, bloodgroup):\n",
        "\n",
        "    patient= Patient(id,name,age,bloodgroup,None,None)\n",
        "    n=create_Node(patient)\n",
        "    n.next=self.dh\n",
        "    n.prev=self.dh.prev\n",
        "    self.dh.prev=n\n",
        "    self.dh.prev.next=n\n",
        "\n",
        "\n",
        "  def servePatient(self):\n",
        "\n",
        "    if self.dh.next!=self.dh:\n",
        "      serve_p=self.dh.next.elem\n",
        "      self.dh.next=self.dh.next.next\n",
        "      self.dh.next.prev=self.dh\n",
        "      return serve_p\n",
        "    else:\n",
        "      return None\n",
        "\n",
        "\n",
        "  def showAllPatient(self):\n",
        "\n",
        "    curr=self.dh.next\n",
        "    while(curr!=self.dh):\n",
        "      print(\"ID:\", curr.elem.id, \"Name:\", curr.elem.name)\n",
        "      curr=curr.next\n",
        "\n",
        "  def canDoctorGoHome(self):\n",
        "\n",
        "    if self.dh.next==self.dh:\n",
        "      return True\n",
        "    else:\n",
        "      return False\n",
        "\n",
        "  def cancelAll(self):\n",
        "\n",
        "    while self.dh.next!=self.dh:\n",
        "      self.dh.next=self.dh\n",
        "      self.dh.prev=self.dh\n",
        "\n",
        "  def ReverseTheLine(self):\n",
        "\n",
        "    if(self.dh.next!=self.dh ):\n",
        "      curr=self.dh.prev\n",
        "      while(curr!= self.head):\n",
        "         print(\"ID:\", curr.elem.id, \"Name:\", curr.elem.name)\n",
        "         curr = curr.prev\n",
        "    else:\n",
        "       return None\n"
      ],
      "metadata": {
        "id": "dNx7zTJ1OZNv"
      },
      "execution_count": 5,
      "outputs": []
    },
    {
      "cell_type": "code",
      "source": [
        "#Write a Tester Code in this cell\n",
        "now_WRM = WRM()\n",
        "print(\"**Welcome to Waiting Room Management System**\")\n",
        "while True:\n",
        "  print(f'Choose any option: \\n1.Register Patient\\n2.Serve Patient\\n3.Cancel All\\n4.Can Doctor Go Home\\n5.Show All Patient\\n6.Reverse the Line\\n7.Exit the waiting room')\n",
        "  choice = int(input(\"Enter your choice: \"))\n",
        "  if(choice == 1):\n",
        "    id = int(input(\"Enter Patient ID: \"))\n",
        "    name = input(\"Enter Name: \")\n",
        "    age = int(input(\"Enter Age of the patient: \"))\n",
        "    bloodgroup = input(\"Enter Blood Group of the patient: \")\n",
        "    now_WRM.registerPatient(id, name, age, bloodgroup)\n",
        "    print(\"Patient added successfully.\")\n",
        "  elif(choice == 2):\n",
        "    now_WRM.servePatient()\n",
        "  elif(choice == 3):\n",
        "    now_WRM.cancelAll()\n",
        "  elif(choice == 4):\n",
        "    if(now_WRM.canDoctorGoHome()):\n",
        "      print(True)\n",
        "    else:\n",
        "      print(False)\n",
        "  elif(choice == 5):\n",
        "    now_WRM.showAllPatient()\n",
        "  elif(choice == 6):\n",
        "    now_WRM.ReverseTheLine()\n",
        "  elif(choice == 7):\n",
        "    print(\"Exiting the waiting room.\")\n",
        "    print(\"Thank You\")\n",
        "    break\n",
        "  else:\n",
        "    print(\"Invalid choice.\")\n",
        "    print(\"Choose a valid option to get the service\")\n"
      ],
      "metadata": {
        "id": "jKhbn1LAPfjr",
        "colab": {
          "base_uri": "https://localhost:8080/"
        },
        "outputId": "5eebb3af-a511-47b8-b7c3-17b6c7ff0b13"
      },
      "execution_count": 6,
      "outputs": [
        {
          "output_type": "stream",
          "name": "stdout",
          "text": [
            "**Welcome to Waiting Room Management System**\n",
            "Choose any option: \n",
            "1.Register Patient\n",
            "2.Serve Patient\n",
            "3.Cancel All\n",
            "4.Can Doctor Go Home\n",
            "5.Show All Patient\n",
            "6.Reverse the Line\n",
            "7.Exit the waiting room\n",
            "Enter your choice: 4\n",
            "True\n",
            "Choose any option: \n",
            "1.Register Patient\n",
            "2.Serve Patient\n",
            "3.Cancel All\n",
            "4.Can Doctor Go Home\n",
            "5.Show All Patient\n",
            "6.Reverse the Line\n",
            "7.Exit the waiting room\n",
            "Enter your choice: 1\n",
            "Enter Patient ID: 01\n",
            "Enter Name: rr\n",
            "Enter Age of the patient: 22\n",
            "Enter Blood Group of the patient: B+\n",
            "Patient added successfully.\n",
            "Choose any option: \n",
            "1.Register Patient\n",
            "2.Serve Patient\n",
            "3.Cancel All\n",
            "4.Can Doctor Go Home\n",
            "5.Show All Patient\n",
            "6.Reverse the Line\n",
            "7.Exit the waiting room\n",
            "Enter your choice: 2\n",
            "Choose any option: \n",
            "1.Register Patient\n",
            "2.Serve Patient\n",
            "3.Cancel All\n",
            "4.Can Doctor Go Home\n",
            "5.Show All Patient\n",
            "6.Reverse the Line\n",
            "7.Exit the waiting room\n",
            "Enter your choice: 2\n",
            "Choose any option: \n",
            "1.Register Patient\n",
            "2.Serve Patient\n",
            "3.Cancel All\n",
            "4.Can Doctor Go Home\n",
            "5.Show All Patient\n",
            "6.Reverse the Line\n",
            "7.Exit the waiting room\n",
            "Enter your choice: 3\n",
            "Choose any option: \n",
            "1.Register Patient\n",
            "2.Serve Patient\n",
            "3.Cancel All\n",
            "4.Can Doctor Go Home\n",
            "5.Show All Patient\n",
            "6.Reverse the Line\n",
            "7.Exit the waiting room\n",
            "Enter your choice: 7\n",
            "Exiting the waiting room.\n",
            "Thank You\n"
          ]
        }
      ]
    },
    {
      "cell_type": "markdown",
      "source": [
        "**Assignment Part 2: Stack**\n",
        "\n",
        "Linked List based Stack is implemented in the following cell."
      ],
      "metadata": {
        "id": "CJWd_j6YEnPn"
      }
    },
    {
      "cell_type": "code",
      "source": [
        "class Node:\n",
        "  def __init__(self,elem=None,next=None):\n",
        "    self.elem = elem\n",
        "    self.next = next\n",
        "\n",
        "class Stack:\n",
        "  def __init__(self):\n",
        "    self.__top = None\n",
        "\n",
        "  def push(self,elem):\n",
        "    nn = Node(elem,self.__top)\n",
        "    self.__top = nn\n",
        "\n",
        "  def pop(self):\n",
        "    if self.__top == None:\n",
        "      #print('Stack Underflow')\n",
        "      return None\n",
        "    e = self.__top\n",
        "    self.__top = self.__top.next\n",
        "    return e.elem\n",
        "\n",
        "  def peek(self):\n",
        "    if self.__top == None:\n",
        "      #print('Stack Underflow')\n",
        "      return None\n",
        "    return self.__top.elem\n",
        "\n",
        "  def isEmpty(self):\n",
        "    return self.__top == None\n"
      ],
      "metadata": {
        "id": "KHLhs5x0D-O6"
      },
      "execution_count": 7,
      "outputs": []
    },
    {
      "cell_type": "code",
      "source": [
        "#You can run this driver code cell to understand the methods of Stack class\n",
        "st = Stack()\n",
        "st.push(4)\n",
        "st.push(3)\n",
        "st.push(5)\n",
        "st.push(1)\n",
        "st.push(9)\n",
        "\n",
        "print('Peeked Element: ',st.peek())\n",
        "print('Popped Element: ',st.pop())\n",
        "print('Popped Element: ',st.pop())\n",
        "print('Popped Element: ',st.pop())\n",
        "print('Peeked Element: ',st.peek())\n",
        "print('Popped Element: ',st.pop())\n",
        "print('Popped Element: ',st.pop())\n",
        "print('Peeked Element: ',st.peek())\n",
        "print('Popped Element: ',st.pop())\n",
        "print(st.isEmpty())"
      ],
      "metadata": {
        "id": "4XkuMA7gEjE7",
        "colab": {
          "base_uri": "https://localhost:8080/"
        },
        "outputId": "e9f49512-bed3-4ceb-81d9-c5d365c3d32b"
      },
      "execution_count": 8,
      "outputs": [
        {
          "output_type": "stream",
          "name": "stdout",
          "text": [
            "Peeked Element:  9\n",
            "Popped Element:  9\n",
            "Popped Element:  1\n",
            "Popped Element:  5\n",
            "Peeked Element:  3\n",
            "Popped Element:  3\n",
            "Popped Element:  4\n",
            "Peeked Element:  None\n",
            "Popped Element:  None\n",
            "True\n"
          ]
        }
      ]
    },
    {
      "cell_type": "markdown",
      "source": [
        "You can print your stack using this code segment"
      ],
      "metadata": {
        "id": "xrfONLccG9Gi"
      }
    },
    {
      "cell_type": "code",
      "source": [
        "def print_stack(st):\n",
        "  if st.isEmpty():\n",
        "    return\n",
        "  p = st.pop()\n",
        "  print('|',p,end=' ')\n",
        "  if p<10:\n",
        "    print(' |')\n",
        "  else:\n",
        "    print('|')\n",
        "  #print('------')\n",
        "  print_stack(st)\n",
        "  st.push(p)\n",
        "\n",
        "# st = Stack()\n",
        "# st.push(4)\n",
        "# st.push(3)\n",
        "# st.push(5)\n",
        "# st.push(1)\n",
        "# st.push(9)\n",
        "# print_stack(st)\n",
        "# print('------')"
      ],
      "metadata": {
        "id": "S-EembO_GsWA"
      },
      "execution_count": 9,
      "outputs": []
    },
    {
      "cell_type": "markdown",
      "source": [
        "Task 1: Diamond Count"
      ],
      "metadata": {
        "id": "iNMnfqqpIga2"
      }
    },
    {
      "cell_type": "code",
      "source": [
        "def diamond_count(stack,string):\n",
        "  #TO DO\n",
        "  counter = 0\n",
        "  for i in string:\n",
        "    if(i == \"<\"):\n",
        "      stack.push(i)\n",
        "    elif(i == \">\"):\n",
        "      if(stack.peek() == \"<\"):\n",
        "        stack.pop()\n",
        "        counter += 1\n",
        "  return counter\n",
        "\n",
        "\n",
        "print('Test 01')\n",
        "stack = Stack()\n",
        "string = '<..><.<..>> '\n",
        "returned_value = diamond_count(stack,string)\n",
        "print(f'Number of Diamonds: {returned_value}') #This should print 3\n",
        "unittest.output_test(returned_value, 3)\n",
        "print('-----------------------------------------')\n",
        "\n",
        "\n",
        "print('Test 02')\n",
        "stack = Stack()\n",
        "string = '<<<..<......<<<<....>'\n",
        "returned_value = diamond_count(stack,string)\n",
        "print(f'Number of Diamonds: {returned_value}') #This should print 1\n",
        "unittest.output_test(returned_value, 1)\n",
        "print('-----------------------------------------')\n",
        "\n",
        "\n",
        "print('Test 03')\n",
        "stack = Stack()\n",
        "string = '>>><...<<..>>...>...>>>'\n",
        "returned_value = diamond_count(stack,string)\n",
        "print(f'Number of Diamonds: {returned_value}') #This should print 3\n",
        "unittest.output_test(returned_value, 3)\n",
        "print('-----------------------------------------')"
      ],
      "metadata": {
        "id": "GnX70OIvG_gZ",
        "colab": {
          "base_uri": "https://localhost:8080/"
        },
        "outputId": "f8351816-c527-4824-9cc6-701e2f608bc4"
      },
      "execution_count": 12,
      "outputs": [
        {
          "output_type": "stream",
          "name": "stdout",
          "text": [
            "Test 01\n",
            "Number of Diamonds: 3\n",
            "Accepted\n",
            "-----------------------------------------\n",
            "Test 02\n",
            "Number of Diamonds: 1\n",
            "Accepted\n",
            "-----------------------------------------\n",
            "Test 03\n",
            "Number of Diamonds: 3\n",
            "Accepted\n",
            "-----------------------------------------\n"
          ]
        }
      ]
    },
    {
      "cell_type": "markdown",
      "source": [
        "Task 2: Tower of Blocks"
      ],
      "metadata": {
        "id": "PhCF3SZ6IX5g"
      }
    },
    {
      "cell_type": "code",
      "source": [
        "def remove_block(stack, n):\n",
        "\n",
        "  temp = Stack()\n",
        "  for i in range(n - 1):\n",
        "    x = stack.peek()\n",
        "    stack.pop()\n",
        "    temp.push(x)\n",
        "  stack.pop()\n",
        "  while not temp.isEmpty():\n",
        "    y = temp.peek()\n",
        "    stack.push(y)\n",
        "    temp.pop()\n",
        "\n",
        "\n",
        "print('Test 01')\n",
        "st = Stack()\n",
        "st.push(4)\n",
        "st.push(19)\n",
        "st.push(23)\n",
        "st.push(17)\n",
        "st.push(5)\n",
        "print('Stack:')\n",
        "print_stack(st)\n",
        "print('------')\n",
        "remove_block(st,2)\n",
        "print('After Removal')\n",
        "print_stack(st)\n",
        "print('------')\n",
        "\n",
        "print()\n",
        "print('======================================')\n",
        "print()\n",
        "\n",
        "print('Test 02')\n",
        "st = Stack()\n",
        "st.push(73)\n",
        "st.push(85)\n",
        "st.push(15)\n",
        "st.push(41)\n",
        "print('Stack:')\n",
        "print_stack(st)\n",
        "print('------')\n",
        "remove_block(st,3)\n",
        "print('After Removal')\n",
        "print_stack(st)\n",
        "print('------')\n",
        "\n",
        "print()\n",
        "print('======================================')\n",
        "print()"
      ],
      "metadata": {
        "id": "W3N4q7YAHExr",
        "colab": {
          "base_uri": "https://localhost:8080/"
        },
        "outputId": "f77da8e8-a353-4595-e3d8-1e3e9a25c73c"
      },
      "execution_count": 13,
      "outputs": [
        {
          "output_type": "stream",
          "name": "stdout",
          "text": [
            "Test 01\n",
            "Stack:\n",
            "| 5  |\n",
            "| 17 |\n",
            "| 23 |\n",
            "| 19 |\n",
            "| 4  |\n",
            "------\n",
            "After Removal\n",
            "| 5  |\n",
            "| 23 |\n",
            "| 19 |\n",
            "| 4  |\n",
            "------\n",
            "\n",
            "======================================\n",
            "\n",
            "Test 02\n",
            "Stack:\n",
            "| 41 |\n",
            "| 15 |\n",
            "| 85 |\n",
            "| 73 |\n",
            "------\n",
            "After Removal\n",
            "| 41 |\n",
            "| 15 |\n",
            "| 73 |\n",
            "------\n",
            "\n",
            "======================================\n",
            "\n"
          ]
        }
      ]
    },
    {
      "cell_type": "markdown",
      "source": [
        "Task 3: Stack Reverse"
      ],
      "metadata": {
        "id": "jcngRuqUWOfl"
      }
    },
    {
      "cell_type": "code",
      "source": [
        "def conditional_reverse(stack):\n",
        "  #To Do\n",
        "  temp2 = Stack()\n",
        "  while (stack.peek() != None):\n",
        "    a = stack.peek()\n",
        "    stack.pop()\n",
        "    b = stack.peek()\n",
        "    if(a == b):\n",
        "      stack.pop()\n",
        "    temp2.push(a)\n",
        "  return temp2\n",
        "\n",
        "\n",
        "print('Test 01')\n",
        "st=Stack()\n",
        "st.push(10)\n",
        "st.push(10)\n",
        "st.push(20)\n",
        "st.push(20)\n",
        "st.push(30)\n",
        "st.push(10)\n",
        "st.push(50)\n",
        "print('Stack:')\n",
        "print_stack(st)\n",
        "print('------')\n",
        "reversed_stack=conditional_reverse(st)\n",
        "print('Conditional Reversed Stack:')\n",
        "print_stack(reversed_stack) # This stack contains 50, 10, 30, 20, 10 in this order whereas top element should be 10\n",
        "print('------')"
      ],
      "metadata": {
        "id": "gLSgfDKPWPnP",
        "colab": {
          "base_uri": "https://localhost:8080/"
        },
        "outputId": "21ab9765-d5a4-47f8-a6af-af14b0a8e065"
      },
      "execution_count": 14,
      "outputs": [
        {
          "output_type": "stream",
          "name": "stdout",
          "text": [
            "Test 01\n",
            "Stack:\n",
            "| 50 |\n",
            "| 10 |\n",
            "| 30 |\n",
            "| 20 |\n",
            "| 20 |\n",
            "| 10 |\n",
            "| 10 |\n",
            "------\n",
            "Conditional Reversed Stack:\n",
            "| 10 |\n",
            "| 20 |\n",
            "| 30 |\n",
            "| 10 |\n",
            "| 50 |\n",
            "------\n"
          ]
        }
      ]
    }
  ]
}