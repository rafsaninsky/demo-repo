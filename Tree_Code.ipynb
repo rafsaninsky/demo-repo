{
  "nbformat": 4,
  "nbformat_minor": 0,
  "metadata": {
    "colab": {
      "provenance": [],
      "authorship_tag": "ABX9TyO+dk5ewAI3aO2cI2w18q6q",
      "include_colab_link": true
    },
    "kernelspec": {
      "name": "python3",
      "display_name": "Python 3"
    },
    "language_info": {
      "name": "python"
    }
  },
  "cells": [
    {
      "cell_type": "markdown",
      "metadata": {
        "id": "view-in-github",
        "colab_type": "text"
      },
      "source": [
        "<a href=\"https://colab.research.google.com/github/rafsaninsky/demo-repo/blob/main/Tree_Code.ipynb\" target=\"_parent\"><img src=\"https://colab.research.google.com/assets/colab-badge.svg\" alt=\"Open In Colab\"/></a>"
      ]
    },
    {
      "cell_type": "code",
      "execution_count": 1,
      "metadata": {
        "id": "SEhak8HR2B1Z"
      },
      "outputs": [],
      "source": [
        "# Tree code (having many children)\n",
        "class Node:\n",
        "  def __init__(self,elem):\n",
        "    self.elem=elem\n",
        "    self.children=[]\n",
        "\n",
        "\"\"\"    Driver Code         \"\"\"\n",
        "root= Node(1)\n",
        "root.children += [Node(2)]\n",
        "root.children += [Node(3)]\n",
        "root.children += [Node(4)]\n",
        "\n",
        "root.children[0].children += [Node(5)]\n",
        "root.children[0].children += [Node(6)]\n",
        "root.children[0].children += [Node(7)]"
      ]
    },
    {
      "cell_type": "markdown",
      "source": [
        "                    [a]\n",
        "              [b]   [c]   [d]\n",
        "           [5]  [6] [7]\n"
      ],
      "metadata": {
        "id": "yKSgIt7z3ZxB"
      }
    },
    {
      "cell_type": "markdown",
      "source": [
        "#TREE CODE FOR BINARY TREE"
      ],
      "metadata": {
        "id": "N_17zj5n38E8"
      }
    },
    {
      "cell_type": "code",
      "source": [
        "class Node:\n",
        "  def __init__(self,elem):\n",
        "    self.elem=elem\n",
        "    self.left=None\n",
        "    self.right=None\n",
        "\n",
        "root  = Node(\"A\")\n",
        "root.left = Node(\"B\")\n",
        "root.right = Node(\"C\")\n",
        "root.left.left= Node(\"D\")\n",
        "root.left.right= Node(\"E\")\n",
        "root.right.left=Node(\"F\")\n",
        "root.right.right= Node(\"G\")\n",
        "root.right.right.left= Node(\"H\")\n"
      ],
      "metadata": {
        "id": "g802qXgU3_YZ"
      },
      "execution_count": 2,
      "outputs": []
    },
    {
      "cell_type": "code",
      "source": [
        "#PRE- ORDER TRAVERSAL\n",
        "''' root , left  , right '''\n",
        "def pre_order(root):\n",
        "  if root==None:\n",
        "    return\n",
        "  print(root.elem,end=\" \")\n",
        "  pre_order(root.left)\n",
        "  pre_order(root.right)\n",
        "\n",
        "pre_order(root)"
      ],
      "metadata": {
        "colab": {
          "base_uri": "https://localhost:8080/"
        },
        "id": "cYDlJ4kq5HE3",
        "outputId": "a028f07b-a6ab-4363-9330-11f7981a7e4c"
      },
      "execution_count": 4,
      "outputs": [
        {
          "output_type": "stream",
          "name": "stdout",
          "text": [
            "A B D E C F G H "
          ]
        }
      ]
    },
    {
      "cell_type": "code",
      "source": [
        "#IN-ORDER TRAVERSAL\n",
        "'''left ,root ,right '''\n",
        "def in_order(root):\n",
        "  if root==None:\n",
        "    return\n",
        "  in_order(root.left)\n",
        "  print(root.elem,end=\" \")\n",
        "  in_order(root.right)\n",
        "in_order(root)"
      ],
      "metadata": {
        "colab": {
          "base_uri": "https://localhost:8080/"
        },
        "id": "dOHqbch65VnR",
        "outputId": "38d75cdd-72c5-4903-e4d6-bea7959410f5"
      },
      "execution_count": 6,
      "outputs": [
        {
          "output_type": "stream",
          "name": "stdout",
          "text": [
            "D B E A F C H G "
          ]
        }
      ]
    },
    {
      "cell_type": "code",
      "source": [
        "# POST-ORDER TRAVERSAL\n",
        "''' left,right ,root '''\n",
        "def post_order(root):\n",
        "  if root==None:\n",
        "    return None\n",
        "  post_order(root.left)\n",
        "  post_order(root.right)\n",
        "  print(root.elem,end=\" \")\n",
        "post_order(root)"
      ],
      "metadata": {
        "colab": {
          "base_uri": "https://localhost:8080/"
        },
        "id": "m5VPYrwH5aDk",
        "outputId": "fc505b11-1cdd-468a-e1fe-547792add3fb"
      },
      "execution_count": 7,
      "outputs": [
        {
          "output_type": "stream",
          "name": "stdout",
          "text": [
            "D E B F H G C A "
          ]
        }
      ]
    },
    {
      "cell_type": "markdown",
      "source": [
        "#To find a tree's Height"
      ],
      "metadata": {
        "id": "x1HjPS3r8gTe"
      }
    },
    {
      "cell_type": "code",
      "source": [
        "def height(root):\n",
        "  if root==None:\n",
        "    return 0\n",
        "  left_side = 1 + height(root.left)\n",
        "  right_side = 1 + height(root.right)\n",
        "  if  left_side> right_side:\n",
        "    return left_side\n",
        "  else:\n",
        "    return right_side\n",
        "height(root)\n",
        ""
      ],
      "metadata": {
        "colab": {
          "base_uri": "https://localhost:8080/"
        },
        "id": "QcVxxTsg8l-n",
        "outputId": "f570e665-c62d-462f-ee5a-ad152083194b"
      },
      "execution_count": 10,
      "outputs": [
        {
          "output_type": "execute_result",
          "data": {
            "text/plain": [
              "4"
            ]
          },
          "metadata": {},
          "execution_count": 10
        }
      ]
    },
    {
      "cell_type": "markdown",
      "source": [
        "#No Of Nodes Calculation"
      ],
      "metadata": {
        "id": "-oYCcDYc_5g_"
      }
    },
    {
      "cell_type": "code",
      "source": [
        "def node_count(root):\n",
        "  if root==None:\n",
        "    return 0\n",
        "  return  1+  node_count(root.left) + node_count(root.right)\n",
        "\n",
        "print(node_count(root))\n",
        ""
      ],
      "metadata": {
        "colab": {
          "base_uri": "https://localhost:8080/"
        },
        "id": "DlUJaNvJ_8UC",
        "outputId": "2401b4a7-d3f8-414a-f954-a873a0f5e290"
      },
      "execution_count": 13,
      "outputs": [
        {
          "output_type": "stream",
          "name": "stdout",
          "text": [
            "8\n"
          ]
        }
      ]
    },
    {
      "cell_type": "markdown",
      "source": [
        "#Balancing a Binary search Tree"
      ],
      "metadata": {
        "id": "82gcE1IcBUZ6"
      }
    },
    {
      "cell_type": "markdown",
      "source": [
        "in-order diye korte hbe age sorted kore"
      ],
      "metadata": {
        "id": "UovkOGRVBaly"
      }
    },
    {
      "cell_type": "code",
      "source": [
        "def balance_BST(array,st,end):\n",
        "  # jodi array deya thake first e sort kore trpr inorder kora\n",
        "  #  jodi binary tree deya taile sudhu  in_order traversal korlei sort hoye jabe\n",
        "  if st > end:\n",
        "    return None\n",
        "  mid = (st+end)//2\n",
        "  w\n",
        "\n"
      ],
      "metadata": {
        "id": "gHfHbxiqBZob"
      },
      "execution_count": null,
      "outputs": []
    }
  ]
}