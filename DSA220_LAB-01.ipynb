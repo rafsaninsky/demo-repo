{
  "cells": [
    {
      "cell_type": "markdown",
      "metadata": {
        "id": "view-in-github",
        "colab_type": "text"
      },
      "source": [
        "<a href=\"https://colab.research.google.com/github/rafsaninsky/demo-repo/blob/main/DSA220_LAB-01.ipynb\" target=\"_parent\"><img src=\"https://colab.research.google.com/assets/colab-badge.svg\" alt=\"Open In Colab\"/></a>"
      ]
    },
    {
      "cell_type": "code",
      "execution_count": 3,
      "metadata": {
        "id": "rSkZFFD4ej5o",
        "colab": {
          "base_uri": "https://localhost:8080/"
        },
        "outputId": "e78494cb-3966-4941-ee76-d44cd166ef25"
      },
      "outputs": [
        {
          "output_type": "stream",
          "name": "stdout",
          "text": [
            "Collecting fhm-unittest\n",
            "  Downloading fhm_unittest-1.0.1-py3-none-any.whl.metadata (1.9 kB)\n",
            "Downloading fhm_unittest-1.0.1-py3-none-any.whl (2.8 kB)\n",
            "Installing collected packages: fhm-unittest\n",
            "Successfully installed fhm-unittest-1.0.1\n",
            "Collecting fuzzywuzzy\n",
            "  Downloading fuzzywuzzy-0.18.0-py2.py3-none-any.whl.metadata (4.9 kB)\n",
            "Downloading fuzzywuzzy-0.18.0-py2.py3-none-any.whl (18 kB)\n",
            "Installing collected packages: fuzzywuzzy\n",
            "Successfully installed fuzzywuzzy-0.18.0\n"
          ]
        },
        {
          "output_type": "stream",
          "name": "stderr",
          "text": [
            "/usr/local/lib/python3.11/dist-packages/fuzzywuzzy/fuzz.py:11: UserWarning: Using slow pure-python SequenceMatcher. Install python-Levenshtein to remove this warning\n",
            "  warnings.warn('Using slow pure-python SequenceMatcher. Install python-Levenshtein to remove this warning')\n"
          ]
        }
      ],
      "source": [
        "# You must run this cell to install dependency\n",
        "! pip3 install fhm-unittest\n",
        "! pip3 install fuzzywuzzy\n",
        "import fhm_unittest as unittest\n",
        "import numpy as np"
      ]
    },
    {
      "cell_type": "code",
      "execution_count": 4,
      "metadata": {
        "id": "fknrEodfUb5M"
      },
      "outputs": [],
      "source": [
        "#DO NOT CHANGE THE CODE BELOW\n",
        "#You must run this cell to print matrix and for the driver code to work\n",
        "def print_matrix(m):\n",
        "  if type(m)==np.ndarray:\n",
        "    row,col = m.shape\n",
        "    for i in range(row):\n",
        "        c = 1\n",
        "        print('|', end='')\n",
        "        for j in range(col):\n",
        "            c += 1\n",
        "            if(len(str(m[i][j])) == 1):\n",
        "                print(' ',m[i][j], end = '  |')\n",
        "                c += 6\n",
        "            else:\n",
        "                print(' ',m[i][j], end = ' |')\n",
        "                c += 6\n",
        "        print()\n",
        "        print('-'*(c-col))\n",
        "\n"
      ]
    },
    {
      "cell_type": "markdown",
      "metadata": {
        "id": "YLpnDfK4egmI"
      },
      "source": [
        "**Instructions to Follow (Failing to follow these will result mark deductions).**\n",
        "1. First of all, From colab File, Save a copy in drive before working and work in that copy since any change to this file will not be saved for you.\n",
        "2. You can not use any built-in function except len()\n",
        "\n",
        "3. You can not use any other python collections except array (e.g: tuple, dictionaries etc.).\n",
        "\n",
        "4. We will initialize a new array using numpy library. We have to mention the fixed size during initialization. There might be 4 approaches.\n",
        "\n",
        " i. arr = np.array([None] * 10) #Initializing an array length 10 with values None.\n",
        "\n",
        " ii. arr = np.array([0] * 10) #Initializing an array length 10 with values zero.\n",
        "\n",
        " iii. arr = np.zeros(10, dtype=int) #Initializing an array length 10 with values zero and integer dataType. By default, dtype is float.\n",
        "\n",
        " iv. arr = np.array([10, 20, 30, 40]) #Initializing an array length 4 with the values.\n",
        "\n"
      ]
    },
    {
      "cell_type": "markdown",
      "metadata": {
        "id": "z-BkkdfjgR6P"
      },
      "source": [
        "You will see the status Accepted after completion if your code is correct.\n",
        "\n",
        "Do not change the driver code statements. You can only change the input values to test your code."
      ]
    },
    {
      "cell_type": "markdown",
      "source": [
        "# Lab Tasks"
      ],
      "metadata": {
        "id": "o3heEdZQ1Jnz"
      }
    },
    {
      "cell_type": "markdown",
      "source": [
        "### **Lab Task 1:** Merge Sorted Array (don't submit)"
      ],
      "metadata": {
        "id": "goiSCUelz3kj"
      }
    },
    {
      "cell_type": "code",
      "source": [
        "def mergeSortedArray(arr1, arr2):\n",
        "  #To Do\n",
        "  pass#remove this line when you're done with the method\n",
        "\n",
        "\n",
        "#DO NOT CHANGE THE CODE BELOW\n",
        "a1 = np.array([1, 2, 3])\n",
        "print(f'Sorted Array 1: {a1}')\n",
        "a2 = np.array([2, 5, 6])\n",
        "print(f'Sorted Array 2: {a2}')\n",
        "returned_value = mergeSortedArray(a1, a2)\n",
        "print(f'Merged Sorted Array: {returned_value}\\n') # This should print [1, 2, 2, 3, 5, 6]\n",
        "unittest.output_test(returned_value, np.array([1, 2, 2, 3, 5, 6]))\n",
        "\n",
        "print('\\n==================================\\n')\n",
        "\n",
        "a3 = np.array([1, 3, 5, 11])\n",
        "print(f'Sorted Array 3: {a3}')\n",
        "a4 = np.array([2, 7, 8])\n",
        "print(f'Sorted Array 4: {a4}')\n",
        "returned_value = mergeSortedArray(a3, a4)\n",
        "print(f'Merged Sorted Array: {returned_value}\\n') # This should print [1, 2, 3, 5, 7, 8, 11]\n",
        "unittest.output_test(returned_value, np.array([1, 2, 3, 5, 7, 8, 11]))"
      ],
      "metadata": {
        "id": "ohvCyw0Rz3Vd",
        "colab": {
          "base_uri": "https://localhost:8080/"
        },
        "outputId": "ffb756a5-6afc-45cd-c6e2-ae4d924a007a"
      },
      "execution_count": null,
      "outputs": [
        {
          "output_type": "stream",
          "name": "stdout",
          "text": [
            "Sorted Array 1: [1 2 3]\n",
            "Sorted Array 2: [2 5 6]\n",
            "Merged Sorted Array: None\n",
            "\n",
            "Wrong Answer [Your output: None  |  Expected Output: [1 2 2 3 5 6]]\n",
            "\n",
            "==================================\n",
            "\n",
            "Sorted Array 3: [ 1  3  5 11]\n",
            "Sorted Array 4: [2 7 8]\n",
            "Merged Sorted Array: None\n",
            "\n",
            "Wrong Answer [Your output: None  |  Expected Output: [ 1  2  3  5  7  8 11]]\n"
          ]
        }
      ]
    },
    {
      "cell_type": "markdown",
      "source": [
        "### **Lab Task 2:** Zigzag Walk (don't submit)"
      ],
      "metadata": {
        "id": "fa0mftQ52KCs"
      }
    },
    {
      "cell_type": "code",
      "source": [
        "def walk_zigzag(floor):\n",
        "  #TO DO\n",
        "  pass#remove this line once you're done with the function\n",
        "\n",
        "#DO NOT CHANGE THE CODE BELOW\n",
        "floor = np.array([[ '3' , '8' , '4' , '6' , '1'],\n",
        "                  ['7' , '2' , '1' , '9' , '3'],\n",
        "                  ['9' , '0' , '7' , '5' , '8'],\n",
        "                  ['2' , '1' , '3' , '4' , '0'],\n",
        "                  ['1' , '4' , '2' , '8' , '6']]\n",
        "                )\n",
        "\n",
        "print_matrix(floor)\n",
        "print('Walking Sequence:')\n",
        "walk_zigzag(floor)\n",
        "#This should print\n",
        "# 3 9 1\n",
        "# 1 2\n",
        "# 4 7 2\n",
        "# 4 9\n",
        "# 1 8 6\n",
        "print('\\n################################\\n')\n",
        "floor = np.array([[ '3' , '8' , '4' , '6' , '1'],\n",
        "                  ['7' , '2' , '1' , '9' , '3'],\n",
        "                  ['9' , '0' , '7' , '5' , '8'],\n",
        "                  ['2' , '1' , '3' , '4' , '0']]\n",
        "                )\n",
        "\n",
        "print_matrix(floor)\n",
        "print('Walking Sequence:')\n",
        "walk_zigzag(floor)\n",
        "#This should print\n",
        "# 3 9\n",
        "# 1 2\n",
        "# 4 7\n",
        "# 4 9\n",
        "# 1 8"
      ],
      "metadata": {
        "colab": {
          "base_uri": "https://localhost:8080/"
        },
        "id": "_ioQaiOh4LvL",
        "outputId": "941f293a-d386-4af9-838d-a6b757a53554"
      },
      "execution_count": null,
      "outputs": [
        {
          "output_type": "stream",
          "name": "stdout",
          "text": [
            "|  3  |  8  |  4  |  6  |  1  |\n",
            "-------------------------------\n",
            "|  7  |  2  |  1  |  9  |  3  |\n",
            "-------------------------------\n",
            "|  9  |  0  |  7  |  5  |  8  |\n",
            "-------------------------------\n",
            "|  2  |  1  |  3  |  4  |  0  |\n",
            "-------------------------------\n",
            "|  1  |  4  |  2  |  8  |  6  |\n",
            "-------------------------------\n",
            "Walking Sequence:\n",
            "\n",
            "################################\n",
            "\n",
            "|  3  |  8  |  4  |  6  |  1  |\n",
            "-------------------------------\n",
            "|  7  |  2  |  1  |  9  |  3  |\n",
            "-------------------------------\n",
            "|  9  |  0  |  7  |  5  |  8  |\n",
            "-------------------------------\n",
            "|  2  |  1  |  3  |  4  |  0  |\n",
            "-------------------------------\n",
            "Walking Sequence:\n"
          ]
        }
      ]
    },
    {
      "cell_type": "markdown",
      "source": [
        "### **Lab Task 3:** Decryption Process (don't submit)"
      ],
      "metadata": {
        "id": "vF_1d1dr2Pmg"
      }
    },
    {
      "cell_type": "code",
      "execution_count": null,
      "metadata": {
        "id": "mxufE5rfVEJM",
        "colab": {
          "base_uri": "https://localhost:8080/"
        },
        "outputId": "f8f3b522-a4d5-4972-b03a-2f82374986e6"
      },
      "outputs": [
        {
          "output_type": "stream",
          "name": "stdout",
          "text": [
            "None\n"
          ]
        }
      ],
      "source": [
        "def decrypt_matrix(matrix):\n",
        "  #To Do\n",
        "  pass#remove this line after you're done with the function\n",
        "\n",
        "#DO NOT CHANGE THE CODE BELOW\n",
        "matrix=np.array([[1,3,1],\n",
        "                 [6,4,2],\n",
        "                 [5,1,7],\n",
        "                 [9,3,3],\n",
        "                 [8,5,4]\n",
        "                 ])\n",
        "\n",
        "returned_array=decrypt_matrix(matrix)\n",
        "print(returned_array)\n",
        "#This should print [-13, 1]"
      ]
    },
    {
      "cell_type": "markdown",
      "source": [
        "# Assignment Tasks"
      ],
      "metadata": {
        "id": "3UtxT3tE1MHn"
      }
    },
    {
      "cell_type": "markdown",
      "source": [
        "### **Assignment Task 1:** Container with Most Water (submit only the function)"
      ],
      "metadata": {
        "id": "SyCEQQfY2rnN"
      }
    },
    {
      "cell_type": "code",
      "source": [
        "def mostWater(arr):\n",
        "  #To Do\n",
        "  left=0\n",
        "  right=len(arr)-1\n",
        "  max=0\n",
        "\n",
        "  while left<right:\n",
        "    width=right-left\n",
        "    if arr[left]<arr[right]:\n",
        "      curr_height=arr[left]\n",
        "      left += 1\n",
        "    else:\n",
        "      curr_height=arr[right]\n",
        "      right -= 1\n",
        "    area= width *curr_height\n",
        "    if area>max:\n",
        "      max=area\n",
        "  print(max)\n",
        "\n",
        "\n",
        "\n",
        "\n",
        "  #No need to return anything just print the output inside the function\n",
        "  #remove this line when you're done with the function\n",
        "\n",
        "#DO NOT CHANGE THE CODE BELOW\n",
        "height = np.array([1,8,6,2,5,4,8,3,7])\n",
        "print(f'Given Array: {height}')\n",
        "\n",
        "print(f'\\nExpected Output: 49')\n",
        "print(f'Your Output: ',end='')\n",
        "mostWater(height)"
      ],
      "metadata": {
        "colab": {
          "base_uri": "https://localhost:8080/"
        },
        "id": "8IhzQF4H3TSu",
        "outputId": "1d7da6d7-27d7-43a9-d80e-a426a35f03b1"
      },
      "execution_count": null,
      "outputs": [
        {
          "output_type": "stream",
          "name": "stdout",
          "text": [
            "Given Array: [1 8 6 2 5 4 8 3 7]\n",
            "\n",
            "Expected Output: 49\n",
            "Your Output: 49\n"
          ]
        }
      ]
    },
    {
      "cell_type": "markdown",
      "source": [
        "### **Assignment Task 2:** Row Rotation Policy (submit only the function)"
      ],
      "metadata": {
        "id": "VWN3yZrq2qp_"
      }
    },
    {
      "cell_type": "code",
      "execution_count": null,
      "metadata": {
        "id": "SzBe-ByVmV8G",
        "colab": {
          "base_uri": "https://localhost:8080/"
        },
        "outputId": "2ac8d118-8825-4423-9288-8622f5749378"
      },
      "outputs": [
        {
          "output_type": "stream",
          "name": "stdout",
          "text": [
            "|  A  |  B  |  C  |  D  |  E  |\n",
            "-------------------------------\n",
            "|  F  |  G  |  H  |  I  |  J  |\n",
            "-------------------------------\n",
            "|  K  |  L  |  M  |  N  |  O  |\n",
            "-------------------------------\n",
            "|  P  |  Q  |  R  |  S  |  T  |\n",
            "-------------------------------\n",
            "|  U  |  V  |  W  |  X  |  Y  |\n",
            "-------------------------------\n",
            "|  Z  |  AA |  BB |  CC |  DD |\n",
            "-------------------------------\n",
            "\n",
            "Your friend AA will be on row None\n"
          ]
        }
      ],
      "source": [
        "# Task 03: Row Rotation Policy of BRACU Classroom\n",
        "def row_rotation(exam_week, seat_status):\n",
        "  #To Do\n",
        "  row,col=seat_status.shape\n",
        "  curr=exam_week-1\n",
        "\n",
        "  if curr>0:\n",
        "\n",
        "  for i in range(row):\n",
        "    for j in range(col):\n",
        "      if seat_status[i][j]=='AA'\n",
        "        row_number=i+1\n",
        "        break\n",
        "\n",
        "  for i in range(row):\n",
        "    for j in range(col):\n",
        "        print(seat_status[i][j], end=' ')\n",
        "    print()\n",
        "  return row_number\n",
        "\n",
        "\n",
        "\n",
        "\n",
        "\n",
        "\n",
        "\n",
        "\n",
        "\n",
        "\n",
        "\n",
        "\n",
        "#DO NOT CHANGE THE CODE BELOW\n",
        "seat_status = np.array([[ 'A' , 'B' , 'C' , 'D' , 'E'],\n",
        "                  ['F' , 'G' , 'H' , 'I' , 'J'],\n",
        "                  ['K' , 'L' , 'M' , 'N' , 'O'],\n",
        "                  ['P' , 'Q' , 'R' , 'S' , 'T'],\n",
        "                  ['U' , 'V' , 'W' , 'X' , 'Y'],\n",
        "                  ['Z' , 'AA' , 'BB' , 'CC' , 'DD']])\n",
        "exam_week=3\n",
        "print_matrix(seat_status)\n",
        "print()\n",
        "\n",
        "row_number=row_rotation(exam_week, seat_status) #This should print modified seat status after rotation and return the row number\n",
        "print(f'Your friend AA will be on row {row_number}') #This should print Your friend AA will be on row 2"
      ]
    },
    {
      "cell_type": "markdown",
      "source": [
        "### **Assignment Task 3:** Matrix Compressions (submit only the function)"
      ],
      "metadata": {
        "id": "hpUStQET26U7"
      }
    },
    {
      "cell_type": "code",
      "execution_count": 6,
      "metadata": {
        "id": "Oi7AXojBEayT",
        "colab": {
          "base_uri": "https://localhost:8080/"
        },
        "outputId": "ce46af31-1900-4713-d967-5a3b3935a719"
      },
      "outputs": [
        {
          "output_type": "stream",
          "name": "stdout",
          "text": [
            "|  1  |  2  |  3  |  4  |\n",
            "-------------------------\n",
            "|  5  |  6  |  7  |  8  |\n",
            "-------------------------\n",
            "|  1  |  3  |  5  |  2  |\n",
            "-------------------------\n",
            "|  -2 |  0  |  6  |  -3 |\n",
            "-------------------------\n",
            "\n",
            "..............................\n",
            "\n",
            "|  14 |  22 |\n",
            "-------------\n",
            "|  2  |  10 |\n",
            "-------------\n"
          ]
        }
      ],
      "source": [
        "def compress_matrix(mat):\n",
        "  #TO DO\n",
        "  row=len(mat)\n",
        "  col=len(mat[0])\n",
        "\n",
        "  new_row=row//2\n",
        "  new_col=col//2\n",
        "\n",
        "  new_arr=np.zeros((new_row,new_col),dtype=int)\n",
        "\n",
        "  for i in range(0,row,2):\n",
        "    for j in range(0,col,2):\n",
        "      s=mat[i][j]+mat[i+1][j]+mat[i][j+1]+mat[i+1][j+1]\n",
        "      new_arr[i//2][j//2]=s\n",
        "  return new_arr\n",
        "\n",
        "\n",
        "\n",
        "\n",
        "\n",
        "\n",
        "\n",
        "\n",
        "\n",
        "\n",
        "\n",
        "\n",
        "\n",
        "  #pass#remove this line when you're done with the function\n",
        "\n",
        "#DO NOT CHANGE THE CODE BELOW\n",
        "matrix=np.array([[1,2,3,4],\n",
        "                 [5,6,7,8],\n",
        "                 [1,3,5,2],\n",
        "                 [-2,0,6,-3]\n",
        "                 ])\n",
        "print_matrix(matrix)\n",
        "print(\"\\n..............................\\n\")\n",
        "returned_array=compress_matrix(matrix)\n",
        "print_matrix(returned_array)\n",
        "#This should print\n",
        "\n",
        "#|  14  |  22 |\n",
        "#--------------\n",
        "#|  2  |  10  |\n",
        "#--------------"
      ]
    },
    {
      "cell_type": "markdown",
      "source": [
        "### **Assignment Task 4:** Game Arena (submit only the function)"
      ],
      "metadata": {
        "id": "_fW0NQN53Baj"
      }
    },
    {
      "cell_type": "code",
      "execution_count": null,
      "metadata": {
        "id": "sTJ7GNezm6uu",
        "colab": {
          "base_uri": "https://localhost:8080/"
        },
        "outputId": "0c5c8981-3082-4e04-88a3-39f611b742ae"
      },
      "outputs": [
        {
          "output_type": "stream",
          "name": "stdout",
          "text": [
            "|  0  |  2  |  2  |  0  |\n",
            "-------------------------\n",
            "|  50 |  1  |  2  |  0  |\n",
            "-------------------------\n",
            "|  2  |  2  |  2  |  0  |\n",
            "-------------------------\n",
            "|  1  |  100 |  2  |  0  |\n",
            "-------------------------\n",
            "\n",
            "..............................\n",
            "\n",
            "|  0  |  2  |  2  |  0  |  2  |\n",
            "-------------------------------\n",
            "|  1  |  50 |  2  |  1  |  100 |\n",
            "-------------------------------\n",
            "|  2  |  2  |  2  |  0  |  2  |\n",
            "-------------------------------\n",
            "|  0  |  200 |  2  |  0  |  0  |\n",
            "-------------------------------\n"
          ]
        }
      ],
      "source": [
        "def play_game(arena):\n",
        "  pass#remove this line when you're done with the function\n",
        "\n",
        "\n",
        "#DO NOT CHANGE THE CODE BELOW\n",
        "arena=np.array([[0,2,2,0],\n",
        "                [50,1,2,0],\n",
        "                [2,2,2,0],\n",
        "                [1,100,2,0]\n",
        "                ])\n",
        "print_matrix(arena)\n",
        "play_game(arena)\n",
        "#This should print\n",
        "#Points Gained: 6. Your team is out.\n",
        "print(\"\\n..............................\\n\")\n",
        "arena=np.array([[0,2,2,0,2],\n",
        "                [1,50,2,1,100],\n",
        "                [2,2,2,0,2],\n",
        "                [0,200,2,0,0]\n",
        "                ])\n",
        "print_matrix(arena)\n",
        "play_game(arena)\n",
        "#This should print\n",
        "#Points Gained: 14. Your team has survived the game."
      ]
    },
    {
      "cell_type": "code",
      "source": [
        "##$$$$$$$$$$$$$$$$$$$$$$$$$$\n",
        "import numpy as np\n",
        "\n",
        "def play_game(arena):\n",
        "    row, col = len(arena), len(arena[0])\n",
        "    total_points = 0\n",
        "\n",
        "    for i in range(row):\n",
        "        for j in range(col):\n",
        "            if arena[i][j] % 50 == 0 and arena[i][j] != 0:\n",
        "                for dx, dy in [(-1,0), (1,0), (0,-1), (0,1)]:  # up, down, left, right\n",
        "                    ni, nj = i + dx, j + dy\n",
        "                    if 0 <= ni < row and 0 <= nj < col and arena[ni][nj] == 2:\n",
        "                        total_points += 2\n",
        "\n",
        "    if total_points >= 10:\n",
        "        print(f\"Points Gained: {total_points}. Your team has survived the game.\")\n",
        "    else:\n",
        "        print(f\"Points Gained: {total_points}. Your team is out.\")\n",
        "\n",
        "def print_matrix(mat):\n",
        "    for row in mat:\n",
        "        print(\"|\", end=\" \")\n",
        "        for val in row:\n",
        "            print(f\"{val:3}\", end=\" | \")\n",
        "        print(\"\\n\" + \"-\" * (len(row) * 7))\n",
        "\n",
        "# DO NOT CHANGE THE CODE BELOW\n",
        "arena1 = np.array([[0, 2, 2, 0],\n",
        "                   [50, 1, 2, 0],\n",
        "                   [2, 2, 2, 0],\n",
        "                   [1, 100, 2, 0]])\n",
        "\n",
        "print_matrix(arena1)\n",
        "play_game(arena1)\n",
        "\n",
        "print(\"\\n..............................\\n\")\n",
        "\n",
        "arena2 = np.array([[0, 2, 2, 0, 2],\n",
        "                   [1, 50, 2, 1, 100],\n",
        "                   [2, 2, 2, 0, 2],\n",
        "                   [0, 200, 2, 0, 0]])\n",
        "\n",
        "print_matrix(arena2)\n",
        "play_game(arena2)\n",
        "\n"
      ],
      "metadata": {
        "colab": {
          "base_uri": "https://localhost:8080/"
        },
        "id": "hla4wr0-knst",
        "outputId": "f29769b1-f0db-4b93-8c92-d51ff7ac4c14"
      },
      "execution_count": 8,
      "outputs": [
        {
          "output_type": "stream",
          "name": "stdout",
          "text": [
            "|   0 |   2 |   2 |   0 | \n",
            "----------------------------\n",
            "|  50 |   1 |   2 |   0 | \n",
            "----------------------------\n",
            "|   2 |   2 |   2 |   0 | \n",
            "----------------------------\n",
            "|   1 | 100 |   2 |   0 | \n",
            "----------------------------\n",
            "Points Gained: 6. Your team is out.\n",
            "\n",
            "..............................\n",
            "\n",
            "|   0 |   2 |   2 |   0 |   2 | \n",
            "-----------------------------------\n",
            "|   1 |  50 |   2 |   1 | 100 | \n",
            "-----------------------------------\n",
            "|   2 |   2 |   2 |   0 |   2 | \n",
            "-----------------------------------\n",
            "|   0 | 200 |   2 |   0 |   0 | \n",
            "-----------------------------------\n",
            "Points Gained: 14. Your team has survived the game.\n"
          ]
        }
      ]
    }
  ],
  "metadata": {
    "colab": {
      "provenance": [],
      "include_colab_link": true
    },
    "kernelspec": {
      "display_name": "Python 3",
      "name": "python3"
    },
    "language_info": {
      "name": "python"
    }
  },
  "nbformat": 4,
  "nbformat_minor": 0
}