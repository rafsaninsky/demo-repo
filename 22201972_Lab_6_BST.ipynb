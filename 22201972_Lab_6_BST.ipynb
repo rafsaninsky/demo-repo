{
  "cells": [
    {
      "cell_type": "markdown",
      "metadata": {
        "id": "view-in-github",
        "colab_type": "text"
      },
      "source": [
        "<a href=\"https://colab.research.google.com/github/rafsaninsky/demo-repo/blob/main/22201972_Lab_6_BST.ipynb\" target=\"_parent\"><img src=\"https://colab.research.google.com/assets/colab-badge.svg\" alt=\"Open In Colab\"/></a>"
      ]
    },
    {
      "cell_type": "code",
      "execution_count": 1,
      "metadata": {
        "id": "D6vC520OPeTa"
      },
      "outputs": [],
      "source": [
        "class BTNode:\n",
        "  def __init__(self, elem):\n",
        "    self.elem = elem\n",
        "    self.right = None\n",
        "    self.left = None"
      ]
    },
    {
      "cell_type": "code",
      "execution_count": 2,
      "metadata": {
        "id": "UDTKlm4-PfNM"
      },
      "outputs": [],
      "source": [
        "def inorder(root):\n",
        "  if root == None:\n",
        "    return\n",
        "\n",
        "  inorder(root.left)\n",
        "  print(root.elem, end = ' ')\n",
        "  inorder(root.right)"
      ]
    },
    {
      "cell_type": "code",
      "execution_count": 3,
      "metadata": {
        "id": "Rtc22SPzPgzM",
        "colab": {
          "base_uri": "https://localhost:8080/"
        },
        "outputId": "0f450996-7b5d-484d-d486-47d5a1be585c"
      },
      "outputs": [
        {
          "output_type": "stream",
          "name": "stdout",
          "text": [
            "H D B E A I F J C G k "
          ]
        }
      ],
      "source": [
        "def tree_construction(arr, i = 1):\n",
        "  if i>=len(arr) or arr[i] == None:\n",
        "    return None\n",
        "  p = BTNode(arr[i])\n",
        "  p.left = tree_construction(arr, 2*i)\n",
        "  p.right = tree_construction(arr, 2*i+1)\n",
        "  return p\n",
        "\n",
        "\n",
        "root2 = tree_construction([None, 'A', 'B', 'C', 'D', 'E', 'F', 'G', 'H', None, None, None, 'I', 'J', None, 'k'])\n",
        "inorder(root2)"
      ]
    },
    {
      "cell_type": "markdown",
      "metadata": {
        "id": "S2nNCJNhPqGq"
      },
      "source": [
        "Task 1"
      ]
    },
    {
      "cell_type": "code",
      "execution_count": 8,
      "metadata": {
        "id": "zbBHU3FoPieb",
        "colab": {
          "base_uri": "https://localhost:8080/"
        },
        "outputId": "bf8ac68b-8fb8-4b03-a728-8b871aabd9ff"
      },
      "outputs": [
        {
          "output_type": "stream",
          "name": "stdout",
          "text": [
            "LCA(6,12) = 15\n",
            "LCA(20,6) = 15\n",
            "LCA(18,22) = 15\n",
            "LCA(20,25) = 15\n",
            "LCA(10,12) = 15\n"
          ]
        }
      ],
      "source": [
        "def LCA(root, x, y):\n",
        "\n",
        "  if  root is None or x== root.elem or y== root.elem:\n",
        "    return root\n",
        "  if (x>root.elem and y<root.elem) or (x<root.elem or y>root.elem):\n",
        "    return root\n",
        "  if  x > root.elem and y>root.elem:\n",
        "      return  LCA(root.right,x,y)\n",
        "  if  x < root.elem and y < root.elem:\n",
        "      return  LCA(root.left,x,y)\n",
        "\n",
        "\n",
        "\n",
        "#DRIVER CODE\n",
        "root = BTNode(15)\n",
        "n1 = BTNode(10)\n",
        "n2 = BTNode(25)\n",
        "n3 = BTNode(8)\n",
        "n4 = BTNode(12)\n",
        "n5 = BTNode(20)\n",
        "n6 = BTNode(30)\n",
        "n7 = BTNode(6)\n",
        "n8 = BTNode(9)\n",
        "n9 = BTNode(18)\n",
        "n10 = BTNode(22)\n",
        "\n",
        "root.left = n1\n",
        "root.right = n2\n",
        "\n",
        "n1.left = n3\n",
        "n1.right = n4\n",
        "\n",
        "n2.left = n5\n",
        "n2.right = n6\n",
        "\n",
        "n3.left = n7\n",
        "n3.right = n8\n",
        "\n",
        "n5.left = n9\n",
        "n5.right = n10\n",
        "print(\"LCA(6,12) =\",LCA(root,10,12).elem)\n",
        "print(\"LCA(20,6) =\",LCA(root,20,6).elem)\n",
        "print(\"LCA(18,22) =\",LCA(root,18,22).elem)\n",
        "print(\"LCA(20,25) =\",LCA(root,20,25).elem)\n",
        "print(\"LCA(10,12) =\",LCA(root,10,12).elem)\n",
        "\n",
        "\n",
        "#Write by yourself from the given tree (Create parent node and its corresponding left and right children nodes)\n",
        "#check all the sample inputs given\n",
        "#You can take help by seeing the driver code of Lab-6"
      ]
    },
    {
      "cell_type": "markdown",
      "metadata": {
        "id": "c-TBf3m0PrtK"
      },
      "source": [
        "Task 2"
      ]
    },
    {
      "cell_type": "code",
      "source": [
        "def find_path(root, key):\n",
        "  #To Do\n",
        "    max_level = 100\n",
        "    path = [None] * max_level\n",
        "    current = root\n",
        "    level = 0\n",
        "\n",
        "    while current is not None:\n",
        "        path[level] = current.elem\n",
        "        if  key < current.elem :\n",
        "            current = current.left\n",
        "        elif key > current.elem :\n",
        "            current = current.right\n",
        "        else:\n",
        "            return path[:level + 1]\n",
        "        level += 1\n",
        "\n",
        "    return \"No Path Found\"\n",
        "\n",
        "\n",
        "\n",
        "#DRIVER CODE\n",
        "root = BTNode(30)\n",
        "n1 = BTNode(10)\n",
        "n2 = BTNode(40)\n",
        "n3 = BTNode(3)\n",
        "n4 = BTNode(15)\n",
        "n5 = BTNode(35)\n",
        "n6 = BTNode(55)\n",
        "\n",
        "root.left = n1\n",
        "root.right = n2\n",
        "\n",
        "n1.left = n3\n",
        "n1.right = n4\n",
        "\n",
        "\n",
        "n2.left = n5\n",
        "n2.right = n6\n",
        "\n",
        "\n",
        "#Write by yourself from the given tree\n",
        "print(find_path(root, 15))\n",
        "# This should print [30, 10, 15]\n",
        "print(find_path(root, 50))\n",
        "# This should print \"No Path Found\"\n"
      ],
      "metadata": {
        "id": "i6l-v7k1eE9A",
        "colab": {
          "base_uri": "https://localhost:8080/"
        },
        "outputId": "722d3af0-989e-47df-b884-a0e711a965a2"
      },
      "execution_count": 15,
      "outputs": [
        {
          "output_type": "stream",
          "name": "stdout",
          "text": [
            "[30, 10, 15]\n",
            "No Path Found\n"
          ]
        }
      ]
    },
    {
      "cell_type": "markdown",
      "metadata": {
        "id": "7r3lH3aWPz2d"
      },
      "source": [
        "Task 3"
      ]
    },
    {
      "cell_type": "code",
      "source": [
        "def sum_of_leaves(root, sum):\n",
        "  #To Do\n",
        "    if root is None:\n",
        "        return sum\n",
        "    if root.left is None and root.right is None:\n",
        "        sum += root.elem\n",
        "        return sum\n",
        "    sum = sum_of_leaves(root.left, sum)\n",
        "    sum = sum_of_leaves(root.right, sum)\n",
        "    return sum\n",
        "\n",
        "# DRIVER CODE\n",
        "root = BTNode(30)\n",
        "n1 = BTNode(10)\n",
        "n2 = BTNode(40)\n",
        "n3 = BTNode(3)\n",
        "n4 = BTNode(15)\n",
        "n5 = BTNode(35)\n",
        "n6 = BTNode(55)\n",
        "n7 = BTNode(2)\n",
        "n8 = BTNode(36)\n",
        "\n",
        "root.left = n1\n",
        "root.right = n2\n",
        "n1.left = n3\n",
        "n1.right = n4\n",
        "n2.left = n5\n",
        "n2.right = n6\n",
        "n3.left = n7\n",
        "n5.right = n8\n",
        "\n",
        "\n",
        "#DRIVER CODE\n",
        "#Write by yourself from the given tree\n",
        "\n",
        "print(sum_of_leaves(root, 0))"
      ],
      "metadata": {
        "id": "5eT12zYb8zm7",
        "colab": {
          "base_uri": "https://localhost:8080/"
        },
        "outputId": "d18c6ccf-a31c-45ea-ff95-07ff6ad4b3e7"
      },
      "execution_count": 17,
      "outputs": [
        {
          "output_type": "stream",
          "name": "stdout",
          "text": [
            "108\n"
          ]
        }
      ]
    },
    {
      "cell_type": "markdown",
      "metadata": {
        "id": "5KeA-BoC3uOo"
      },
      "source": [
        "Task 4"
      ]
    },
    {
      "cell_type": "code",
      "execution_count": 22,
      "metadata": {
        "id": "zFwP64v4Pu6d",
        "colab": {
          "base_uri": "https://localhost:8080/"
        },
        "outputId": "fe8024a1-d230-4ea2-a648-2dcfa06a01b4"
      },
      "outputs": [
        {
          "output_type": "stream",
          "name": "stdout",
          "text": [
            "Given Tree Inorder Traversal:  4 8 10 12 14 20 22 \n",
            "Inorder predecessor of node 20: 14\n",
            "Inorder predecessor of node 14: 12\n",
            "Inorder predecessor of node 10: 8\n"
          ]
        }
      ],
      "source": [
        "def helper_fun(root):\n",
        "    if root is None:\n",
        "        return None\n",
        "    if root.right is None:\n",
        "        return root\n",
        "    return helper_fun(root.right)\n",
        "\n",
        "def inorder_predecessor(root, x):\n",
        "    if x.left is not None:\n",
        "        return helper_fun(x.left)\n",
        "\n",
        "    predecessor = None\n",
        "    curr = root\n",
        "    while curr is not None:\n",
        "        if x.elem> curr.elem:\n",
        "            predecessor = curr\n",
        "            curr = curr.right\n",
        "        elif x.elem < curr.elem:\n",
        "            curr = curr.left\n",
        "        else:\n",
        "            break\n",
        "    return predecessor\n",
        "\n",
        "#DRIVER CODE\n",
        "root = BTNode(20)\n",
        "n1 = BTNode(8)\n",
        "n2 = BTNode(22)\n",
        "n3 = BTNode(4)\n",
        "n4 = BTNode(12)\n",
        "n5 = BTNode(10)\n",
        "n6 = BTNode(14)\n",
        "\n",
        "root.left = n1\n",
        "root.right = n2\n",
        "\n",
        "n1.left = n3\n",
        "n1.right = n4\n",
        "\n",
        "n4.left = n5\n",
        "n4.right = n6\n",
        "\n",
        "print('Given Tree Inorder Traversal: ', end = ' ')\n",
        "inorder(root) #Given Tree Inorder Traversal:  4 8 10 12 14 20 22\n",
        "print()\n",
        "\n",
        "x = root\n",
        "print(f'Inorder predecessor of node {x.elem}: {inorder_predecessor(root, x).elem}') #Inorder predecessor of node 20: 14\n",
        "x = root.left.right.right\n",
        "print(f'Inorder predecessor of node {x.elem}: {inorder_predecessor(root, x).elem}') #Inorder predecessor of node 14: 12\n",
        "x = root.left.right.left\n",
        "print(f'Inorder predecessor of node {x.elem}: {inorder_predecessor(root, x).elem}') #Inorder predecessor of node 10: 8"
      ]
    }
  ],
  "metadata": {
    "colab": {
      "provenance": [],
      "include_colab_link": true
    },
    "kernelspec": {
      "display_name": "Python 3",
      "name": "python3"
    },
    "language_info": {
      "name": "python"
    }
  },
  "nbformat": 4,
  "nbformat_minor": 0
}